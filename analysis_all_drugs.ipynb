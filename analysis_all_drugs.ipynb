{
 "cells": [
  {
   "cell_type": "code",
   "execution_count": 1,
   "id": "e174fed4",
   "metadata": {},
   "outputs": [],
   "source": [
    "from data_loaders import DataLoaders as dl\n",
    "import polars as pl\n",
    "from polars import col as c\n",
    "import polars.selectors as cs\n",
    "from asp_ndc import add_standard_drug_name\n",
    "import analysis\n",
    "import importlib"
   ]
  },
  {
   "cell_type": "markdown",
   "id": "a19f7393",
   "metadata": {},
   "source": [
    "### Product Overview Report\n",
    "- unique drug names is based on GPI-10 generic name from Medispan\n",
    "- A single ndc was mapped to each HCPCS code based on the ASP NDC crosswalk file from CMS\n",
    "    - the NDC was then mapped to MEDISPAN GPI-10 generic name\n",
    "- All NDCs were mapped to MEDISPAN GPI-10 generic name\n",
    "- The record (line) coalesced the HCPCS GPI-10 mapping and NDC GPI-10 mapping to get a drug name\n",
    "    - HCPCS mapping was preferred over NDC mapping"
   ]
  },
  {
   "cell_type": "code",
   "execution_count": 4,
   "id": "e7fa6693",
   "metadata": {},
   "outputs": [
    {
     "data": {
      "application/vnd.microsoft.datawrangler.viewer.v0+json": {
       "columns": [
        {
         "name": "index",
         "rawType": "int64",
         "type": "integer"
        },
        {
         "name": "total_lines",
         "rawType": "uint32",
         "type": "integer"
        },
        {
         "name": "lines_w_drug_names",
         "rawType": "uint32",
         "type": "integer"
        },
        {
         "name": "hcpcs_lines",
         "rawType": "uint32",
         "type": "integer"
        },
        {
         "name": "ndc_lines",
         "rawType": "uint32",
         "type": "integer"
        },
        {
         "name": "unique_drug_names",
         "rawType": "uint32",
         "type": "integer"
        },
        {
         "name": "unique_hcpcs",
         "rawType": "uint32",
         "type": "integer"
        },
        {
         "name": "hcpcs_with_drug_name",
         "rawType": "uint32",
         "type": "integer"
        },
        {
         "name": "unique_ndcs",
         "rawType": "uint32",
         "type": "integer"
        }
       ],
       "ref": "5cde161a-cb4e-408e-9f65-0f2b16c1c400",
       "rows": [
        [
         "0",
         "31098523",
         "27696191",
         "30729426",
         "20996834",
         "2400",
         "1327",
         "1094",
         "70482"
        ]
       ],
       "shape": {
        "columns": 8,
        "rows": 1
       }
      },
      "text/html": [
       "<div>\n",
       "<style scoped>\n",
       "    .dataframe tbody tr th:only-of-type {\n",
       "        vertical-align: middle;\n",
       "    }\n",
       "\n",
       "    .dataframe tbody tr th {\n",
       "        vertical-align: top;\n",
       "    }\n",
       "\n",
       "    .dataframe thead th {\n",
       "        text-align: right;\n",
       "    }\n",
       "</style>\n",
       "<table border=\"1\" class=\"dataframe\">\n",
       "  <thead>\n",
       "    <tr style=\"text-align: right;\">\n",
       "      <th></th>\n",
       "      <th>total_lines</th>\n",
       "      <th>lines_w_drug_names</th>\n",
       "      <th>hcpcs_lines</th>\n",
       "      <th>ndc_lines</th>\n",
       "      <th>unique_drug_names</th>\n",
       "      <th>unique_hcpcs</th>\n",
       "      <th>hcpcs_with_drug_name</th>\n",
       "      <th>unique_ndcs</th>\n",
       "    </tr>\n",
       "  </thead>\n",
       "  <tbody>\n",
       "    <tr>\n",
       "      <th>0</th>\n",
       "      <td>31098523</td>\n",
       "      <td>27696191</td>\n",
       "      <td>30729426</td>\n",
       "      <td>20996834</td>\n",
       "      <td>2400</td>\n",
       "      <td>1327</td>\n",
       "      <td>1094</td>\n",
       "      <td>70482</td>\n",
       "    </tr>\n",
       "  </tbody>\n",
       "</table>\n",
       "</div>"
      ],
      "text/plain": [
       "   total_lines  lines_w_drug_names  hcpcs_lines  ndc_lines  unique_drug_names  \\\n",
       "0     31098523            27696191     30729426   20996834               2400   \n",
       "\n",
       "   unique_hcpcs  hcpcs_with_drug_name  unique_ndcs  \n",
       "0          1327                  1094        70482  "
      ]
     },
     "execution_count": 4,
     "metadata": {},
     "output_type": "execute_result"
    }
   ],
   "source": [
    "(\n",
    "    (\n",
    "    dl()\n",
    "    .load_hospital_price_table()\n",
    "    .pipe(add_standard_drug_name)\n",
    "    .select(\n",
    "        pl.len().alias('total_lines'),\n",
    "        c.description.filter(c.drug_name.is_not_null()).len().alias('lines_w_drug_names'),\n",
    "        c.description.filter(c.hcpcs.is_not_null()).len().alias('hcpcs_lines'),\n",
    "        c.description.filter(c.ndc.is_not_null()).len().alias('ndc_lines'),\n",
    "        c.drug_name.n_unique().alias('unique_drug_names'),\n",
    "        c.hcpcs.n_unique().alias('unique_hcpcs'),\n",
    "        c.hcpcs.filter(c.drug_name.is_not_null()).n_unique().alias('hcpcs_with_drug_name'),\n",
    "        c.ndc.n_unique().alias('unique_ndcs'),\n",
    "    )\n",
    "    .collect(engine=\"streaming\")\n",
    "    .to_pandas()\n",
    "    )\n",
    ")"
   ]
  },
  {
   "cell_type": "code",
   "execution_count": 9,
   "id": "02a661db",
   "metadata": {},
   "outputs": [
    {
     "data": {
      "application/vnd.microsoft.datawrangler.viewer.v0+json": {
       "columns": [
        {
         "name": "index",
         "rawType": "int64",
         "type": "integer"
        },
        {
         "name": "drug_name",
         "rawType": "object",
         "type": "string"
        },
        {
         "name": "num_lines",
         "rawType": "uint32",
         "type": "integer"
        },
        {
         "name": "num_hospitals",
         "rawType": "uint32",
         "type": "integer"
        }
       ],
       "ref": "7ee6c996-482d-4e8d-8613-5539b143ca9e",
       "rows": [
        [
         "0",
         "Enoxaparin Sodium",
         "461376",
         "1086"
        ],
        [
         "1",
         "Vancomycin HCl",
         "443059",
         "1108"
        ],
        [
         "2",
         "Heparin Sodium (Porcine)",
         "428414",
         "1093"
        ],
        [
         "3",
         "Sodium Chloride",
         "360219",
         "1036"
        ],
        [
         "4",
         "Morphine Sulfate",
         "330885",
         "1109"
        ],
        [
         "5",
         "Ceftriaxone Sodium",
         "304519",
         "1136"
        ],
        [
         "6",
         "Bupivacaine HCl",
         "297263",
         "841"
        ],
        [
         "7",
         "Potassium Chloride",
         "289857",
         "1071"
        ],
        [
         "8",
         "Midazolam HCl",
         "286896",
         "1085"
        ],
        [
         "9",
         "Magnesium Sulfate",
         "266519",
         "1081"
        ],
        [
         "10",
         "Hydromorphone HCl",
         "261954",
         "1048"
        ],
        [
         "11",
         "Fentanyl Citrate",
         "257083",
         "1076"
        ],
        [
         "12",
         "Piperacillin Sodium-Tazobactam Sodium",
         "250038",
         "1069"
        ],
        [
         "13",
         "Cefazolin Sodium",
         "242495",
         "1113"
        ],
        [
         "14",
         "Darbepoetin Alfa",
         "232772",
         "863"
        ],
        [
         "15",
         "Ropivacaine HCl",
         "221451",
         "902"
        ],
        [
         "16",
         "Ampicillin Sodium",
         "220205",
         "1021"
        ],
        [
         "17",
         "Ketorolac Tromethamine",
         "216627",
         "1132"
        ],
        [
         "18",
         "Dextrose",
         "214414",
         "956"
        ],
        [
         "19",
         "Dexamethasone Sodium Phosphate",
         "204743",
         "1128"
        ]
       ],
       "shape": {
        "columns": 3,
        "rows": 20
       }
      },
      "text/html": [
       "<div>\n",
       "<style scoped>\n",
       "    .dataframe tbody tr th:only-of-type {\n",
       "        vertical-align: middle;\n",
       "    }\n",
       "\n",
       "    .dataframe tbody tr th {\n",
       "        vertical-align: top;\n",
       "    }\n",
       "\n",
       "    .dataframe thead th {\n",
       "        text-align: right;\n",
       "    }\n",
       "</style>\n",
       "<table border=\"1\" class=\"dataframe\">\n",
       "  <thead>\n",
       "    <tr style=\"text-align: right;\">\n",
       "      <th></th>\n",
       "      <th>drug_name</th>\n",
       "      <th>num_lines</th>\n",
       "      <th>num_hospitals</th>\n",
       "    </tr>\n",
       "  </thead>\n",
       "  <tbody>\n",
       "    <tr>\n",
       "      <th>0</th>\n",
       "      <td>Enoxaparin Sodium</td>\n",
       "      <td>461376</td>\n",
       "      <td>1086</td>\n",
       "    </tr>\n",
       "    <tr>\n",
       "      <th>1</th>\n",
       "      <td>Vancomycin HCl</td>\n",
       "      <td>443059</td>\n",
       "      <td>1108</td>\n",
       "    </tr>\n",
       "    <tr>\n",
       "      <th>2</th>\n",
       "      <td>Heparin Sodium (Porcine)</td>\n",
       "      <td>428414</td>\n",
       "      <td>1093</td>\n",
       "    </tr>\n",
       "    <tr>\n",
       "      <th>3</th>\n",
       "      <td>Sodium Chloride</td>\n",
       "      <td>360219</td>\n",
       "      <td>1036</td>\n",
       "    </tr>\n",
       "    <tr>\n",
       "      <th>4</th>\n",
       "      <td>Morphine Sulfate</td>\n",
       "      <td>330885</td>\n",
       "      <td>1109</td>\n",
       "    </tr>\n",
       "    <tr>\n",
       "      <th>5</th>\n",
       "      <td>Ceftriaxone Sodium</td>\n",
       "      <td>304519</td>\n",
       "      <td>1136</td>\n",
       "    </tr>\n",
       "    <tr>\n",
       "      <th>6</th>\n",
       "      <td>Bupivacaine HCl</td>\n",
       "      <td>297263</td>\n",
       "      <td>841</td>\n",
       "    </tr>\n",
       "    <tr>\n",
       "      <th>7</th>\n",
       "      <td>Potassium Chloride</td>\n",
       "      <td>289857</td>\n",
       "      <td>1071</td>\n",
       "    </tr>\n",
       "    <tr>\n",
       "      <th>8</th>\n",
       "      <td>Midazolam HCl</td>\n",
       "      <td>286896</td>\n",
       "      <td>1085</td>\n",
       "    </tr>\n",
       "    <tr>\n",
       "      <th>9</th>\n",
       "      <td>Magnesium Sulfate</td>\n",
       "      <td>266519</td>\n",
       "      <td>1081</td>\n",
       "    </tr>\n",
       "    <tr>\n",
       "      <th>10</th>\n",
       "      <td>Hydromorphone HCl</td>\n",
       "      <td>261954</td>\n",
       "      <td>1048</td>\n",
       "    </tr>\n",
       "    <tr>\n",
       "      <th>11</th>\n",
       "      <td>Fentanyl Citrate</td>\n",
       "      <td>257083</td>\n",
       "      <td>1076</td>\n",
       "    </tr>\n",
       "    <tr>\n",
       "      <th>12</th>\n",
       "      <td>Piperacillin Sodium-Tazobactam Sodium</td>\n",
       "      <td>250038</td>\n",
       "      <td>1069</td>\n",
       "    </tr>\n",
       "    <tr>\n",
       "      <th>13</th>\n",
       "      <td>Cefazolin Sodium</td>\n",
       "      <td>242495</td>\n",
       "      <td>1113</td>\n",
       "    </tr>\n",
       "    <tr>\n",
       "      <th>14</th>\n",
       "      <td>Darbepoetin Alfa</td>\n",
       "      <td>232772</td>\n",
       "      <td>863</td>\n",
       "    </tr>\n",
       "    <tr>\n",
       "      <th>15</th>\n",
       "      <td>Ropivacaine HCl</td>\n",
       "      <td>221451</td>\n",
       "      <td>902</td>\n",
       "    </tr>\n",
       "    <tr>\n",
       "      <th>16</th>\n",
       "      <td>Ampicillin Sodium</td>\n",
       "      <td>220205</td>\n",
       "      <td>1021</td>\n",
       "    </tr>\n",
       "    <tr>\n",
       "      <th>17</th>\n",
       "      <td>Ketorolac Tromethamine</td>\n",
       "      <td>216627</td>\n",
       "      <td>1132</td>\n",
       "    </tr>\n",
       "    <tr>\n",
       "      <th>18</th>\n",
       "      <td>Dextrose</td>\n",
       "      <td>214414</td>\n",
       "      <td>956</td>\n",
       "    </tr>\n",
       "    <tr>\n",
       "      <th>19</th>\n",
       "      <td>Dexamethasone Sodium Phosphate</td>\n",
       "      <td>204743</td>\n",
       "      <td>1128</td>\n",
       "    </tr>\n",
       "  </tbody>\n",
       "</table>\n",
       "</div>"
      ],
      "text/plain": [
       "                                drug_name  num_lines  num_hospitals\n",
       "0                       Enoxaparin Sodium     461376           1086\n",
       "1                          Vancomycin HCl     443059           1108\n",
       "2                Heparin Sodium (Porcine)     428414           1093\n",
       "3                         Sodium Chloride     360219           1036\n",
       "4                        Morphine Sulfate     330885           1109\n",
       "5                      Ceftriaxone Sodium     304519           1136\n",
       "6                         Bupivacaine HCl     297263            841\n",
       "7                      Potassium Chloride     289857           1071\n",
       "8                           Midazolam HCl     286896           1085\n",
       "9                       Magnesium Sulfate     266519           1081\n",
       "10                      Hydromorphone HCl     261954           1048\n",
       "11                       Fentanyl Citrate     257083           1076\n",
       "12  Piperacillin Sodium-Tazobactam Sodium     250038           1069\n",
       "13                       Cefazolin Sodium     242495           1113\n",
       "14                       Darbepoetin Alfa     232772            863\n",
       "15                        Ropivacaine HCl     221451            902\n",
       "16                      Ampicillin Sodium     220205           1021\n",
       "17                 Ketorolac Tromethamine     216627           1132\n",
       "18                               Dextrose     214414            956\n",
       "19         Dexamethasone Sodium Phosphate     204743           1128"
      ]
     },
     "execution_count": 9,
     "metadata": {},
     "output_type": "execute_result"
    }
   ],
   "source": [
    "# Top 20 drugs by number of lines\n",
    "(\n",
    "dl()\n",
    "    .load_hospital_price_table()\n",
    "    .pipe(add_standard_drug_name)\n",
    "    .filter(c.drug_name.is_not_null())\n",
    "    .group_by('drug_name')\n",
    "    .agg(pl.len().alias('num_lines'), c.hospital_id.n_unique().alias('num_hospitals'))\n",
    "    .sort('num_lines', descending=True)\n",
    "    .head(20)\n",
    "    .collect(engine=\"streaming\")\n",
    "    .to_pandas()\n",
    ")"
   ]
  },
  {
   "cell_type": "code",
   "execution_count": 11,
   "id": "0720e4a0",
   "metadata": {},
   "outputs": [
    {
     "data": {
      "application/vnd.microsoft.datawrangler.viewer.v0+json": {
       "columns": [
        {
         "name": "index",
         "rawType": "int64",
         "type": "integer"
        },
        {
         "name": "hcpcs",
         "rawType": "object",
         "type": "string"
        },
        {
         "name": "drug_name",
         "rawType": "object",
         "type": "string"
        },
        {
         "name": "num_lines",
         "rawType": "uint32",
         "type": "integer"
        },
        {
         "name": "num_hospitals",
         "rawType": "uint32",
         "type": "integer"
        }
       ],
       "ref": "adcc81be-0c1f-454b-9ddc-0e14c7075441",
       "rows": [
        [
         "0",
         "J1650",
         "Enoxaparin Sodium",
         "461280",
         "1086"
        ],
        [
         "1",
         "J1644",
         "Heparin Sodium (Porcine)",
         "404896",
         "1087"
        ],
        [
         "2",
         "J3370",
         "Vancomycin HCl",
         "363166",
         "1091"
        ],
        [
         "3",
         "J0696",
         "Ceftriaxone Sodium",
         "296247",
         "1136"
        ],
        [
         "4",
         "J2250",
         "Midazolam HCl",
         "284768",
         "1084"
        ],
        [
         "5",
         "J3480",
         "Potassium Chloride",
         "283855",
         "1071"
        ],
        [
         "6",
         "J0665",
         "Bupivacaine HCl",
         "272751",
         "805"
        ],
        [
         "7",
         "J3475",
         "Magnesium Sulfate",
         "266406",
         "1081"
        ],
        [
         "8",
         "J3010",
         "Fentanyl Citrate",
         "256025",
         "1076"
        ],
        [
         "9",
         "J2543",
         "Piperacillin Sodium-Tazobactam Sodium",
         "249975",
         "1069"
        ],
        [
         "10",
         "J2795",
         "Ropivacaine HCl",
         "221307",
         "902"
        ],
        [
         "11",
         "J0690",
         "Cefazolin Sodium",
         "220153",
         "1094"
        ],
        [
         "12",
         "J0290",
         "Ampicillin Sodium",
         "220121",
         "1021"
        ],
        [
         "13",
         "J1885",
         "Ketorolac Tromethamine",
         "214245",
         "1132"
        ],
        [
         "14",
         "J2270",
         "Morphine Sulfate",
         "213743",
         "1086"
        ],
        [
         "15",
         "J1100",
         "Dexamethasone Sodium Phosphate",
         "204288",
         "1127"
        ],
        [
         "16",
         "J2704",
         "Propofol",
         "198550",
         "983"
        ],
        [
         "17",
         "J0881",
         "Darbepoetin Alfa",
         "192539",
         "840"
        ],
        [
         "18",
         "J0171",
         "Epinephrine (Anaphylaxis)",
         "192335",
         "1075"
        ],
        [
         "19",
         "J1940",
         "Furosemide",
         "187750",
         "1008"
        ]
       ],
       "shape": {
        "columns": 4,
        "rows": 20
       }
      },
      "text/html": [
       "<div>\n",
       "<style scoped>\n",
       "    .dataframe tbody tr th:only-of-type {\n",
       "        vertical-align: middle;\n",
       "    }\n",
       "\n",
       "    .dataframe tbody tr th {\n",
       "        vertical-align: top;\n",
       "    }\n",
       "\n",
       "    .dataframe thead th {\n",
       "        text-align: right;\n",
       "    }\n",
       "</style>\n",
       "<table border=\"1\" class=\"dataframe\">\n",
       "  <thead>\n",
       "    <tr style=\"text-align: right;\">\n",
       "      <th></th>\n",
       "      <th>hcpcs</th>\n",
       "      <th>drug_name</th>\n",
       "      <th>num_lines</th>\n",
       "      <th>num_hospitals</th>\n",
       "    </tr>\n",
       "  </thead>\n",
       "  <tbody>\n",
       "    <tr>\n",
       "      <th>0</th>\n",
       "      <td>J1650</td>\n",
       "      <td>Enoxaparin Sodium</td>\n",
       "      <td>461280</td>\n",
       "      <td>1086</td>\n",
       "    </tr>\n",
       "    <tr>\n",
       "      <th>1</th>\n",
       "      <td>J1644</td>\n",
       "      <td>Heparin Sodium (Porcine)</td>\n",
       "      <td>404896</td>\n",
       "      <td>1087</td>\n",
       "    </tr>\n",
       "    <tr>\n",
       "      <th>2</th>\n",
       "      <td>J3370</td>\n",
       "      <td>Vancomycin HCl</td>\n",
       "      <td>363166</td>\n",
       "      <td>1091</td>\n",
       "    </tr>\n",
       "    <tr>\n",
       "      <th>3</th>\n",
       "      <td>J0696</td>\n",
       "      <td>Ceftriaxone Sodium</td>\n",
       "      <td>296247</td>\n",
       "      <td>1136</td>\n",
       "    </tr>\n",
       "    <tr>\n",
       "      <th>4</th>\n",
       "      <td>J2250</td>\n",
       "      <td>Midazolam HCl</td>\n",
       "      <td>284768</td>\n",
       "      <td>1084</td>\n",
       "    </tr>\n",
       "    <tr>\n",
       "      <th>5</th>\n",
       "      <td>J3480</td>\n",
       "      <td>Potassium Chloride</td>\n",
       "      <td>283855</td>\n",
       "      <td>1071</td>\n",
       "    </tr>\n",
       "    <tr>\n",
       "      <th>6</th>\n",
       "      <td>J0665</td>\n",
       "      <td>Bupivacaine HCl</td>\n",
       "      <td>272751</td>\n",
       "      <td>805</td>\n",
       "    </tr>\n",
       "    <tr>\n",
       "      <th>7</th>\n",
       "      <td>J3475</td>\n",
       "      <td>Magnesium Sulfate</td>\n",
       "      <td>266406</td>\n",
       "      <td>1081</td>\n",
       "    </tr>\n",
       "    <tr>\n",
       "      <th>8</th>\n",
       "      <td>J3010</td>\n",
       "      <td>Fentanyl Citrate</td>\n",
       "      <td>256025</td>\n",
       "      <td>1076</td>\n",
       "    </tr>\n",
       "    <tr>\n",
       "      <th>9</th>\n",
       "      <td>J2543</td>\n",
       "      <td>Piperacillin Sodium-Tazobactam Sodium</td>\n",
       "      <td>249975</td>\n",
       "      <td>1069</td>\n",
       "    </tr>\n",
       "    <tr>\n",
       "      <th>10</th>\n",
       "      <td>J2795</td>\n",
       "      <td>Ropivacaine HCl</td>\n",
       "      <td>221307</td>\n",
       "      <td>902</td>\n",
       "    </tr>\n",
       "    <tr>\n",
       "      <th>11</th>\n",
       "      <td>J0690</td>\n",
       "      <td>Cefazolin Sodium</td>\n",
       "      <td>220153</td>\n",
       "      <td>1094</td>\n",
       "    </tr>\n",
       "    <tr>\n",
       "      <th>12</th>\n",
       "      <td>J0290</td>\n",
       "      <td>Ampicillin Sodium</td>\n",
       "      <td>220121</td>\n",
       "      <td>1021</td>\n",
       "    </tr>\n",
       "    <tr>\n",
       "      <th>13</th>\n",
       "      <td>J1885</td>\n",
       "      <td>Ketorolac Tromethamine</td>\n",
       "      <td>214245</td>\n",
       "      <td>1132</td>\n",
       "    </tr>\n",
       "    <tr>\n",
       "      <th>14</th>\n",
       "      <td>J2270</td>\n",
       "      <td>Morphine Sulfate</td>\n",
       "      <td>213743</td>\n",
       "      <td>1086</td>\n",
       "    </tr>\n",
       "    <tr>\n",
       "      <th>15</th>\n",
       "      <td>J1100</td>\n",
       "      <td>Dexamethasone Sodium Phosphate</td>\n",
       "      <td>204288</td>\n",
       "      <td>1127</td>\n",
       "    </tr>\n",
       "    <tr>\n",
       "      <th>16</th>\n",
       "      <td>J2704</td>\n",
       "      <td>Propofol</td>\n",
       "      <td>198550</td>\n",
       "      <td>983</td>\n",
       "    </tr>\n",
       "    <tr>\n",
       "      <th>17</th>\n",
       "      <td>J0881</td>\n",
       "      <td>Darbepoetin Alfa</td>\n",
       "      <td>192539</td>\n",
       "      <td>840</td>\n",
       "    </tr>\n",
       "    <tr>\n",
       "      <th>18</th>\n",
       "      <td>J0171</td>\n",
       "      <td>Epinephrine (Anaphylaxis)</td>\n",
       "      <td>192335</td>\n",
       "      <td>1075</td>\n",
       "    </tr>\n",
       "    <tr>\n",
       "      <th>19</th>\n",
       "      <td>J1940</td>\n",
       "      <td>Furosemide</td>\n",
       "      <td>187750</td>\n",
       "      <td>1008</td>\n",
       "    </tr>\n",
       "  </tbody>\n",
       "</table>\n",
       "</div>"
      ],
      "text/plain": [
       "    hcpcs                              drug_name  num_lines  num_hospitals\n",
       "0   J1650                      Enoxaparin Sodium     461280           1086\n",
       "1   J1644               Heparin Sodium (Porcine)     404896           1087\n",
       "2   J3370                         Vancomycin HCl     363166           1091\n",
       "3   J0696                     Ceftriaxone Sodium     296247           1136\n",
       "4   J2250                          Midazolam HCl     284768           1084\n",
       "5   J3480                     Potassium Chloride     283855           1071\n",
       "6   J0665                        Bupivacaine HCl     272751            805\n",
       "7   J3475                      Magnesium Sulfate     266406           1081\n",
       "8   J3010                       Fentanyl Citrate     256025           1076\n",
       "9   J2543  Piperacillin Sodium-Tazobactam Sodium     249975           1069\n",
       "10  J2795                        Ropivacaine HCl     221307            902\n",
       "11  J0690                       Cefazolin Sodium     220153           1094\n",
       "12  J0290                      Ampicillin Sodium     220121           1021\n",
       "13  J1885                 Ketorolac Tromethamine     214245           1132\n",
       "14  J2270                       Morphine Sulfate     213743           1086\n",
       "15  J1100         Dexamethasone Sodium Phosphate     204288           1127\n",
       "16  J2704                               Propofol     198550            983\n",
       "17  J0881                       Darbepoetin Alfa     192539            840\n",
       "18  J0171              Epinephrine (Anaphylaxis)     192335           1075\n",
       "19  J1940                             Furosemide     187750           1008"
      ]
     },
     "execution_count": 11,
     "metadata": {},
     "output_type": "execute_result"
    }
   ],
   "source": [
    "# Top 20 HCPCS by number of lines with drug names\n",
    "(\n",
    "dl()\n",
    "    .load_hospital_price_table()\n",
    "    .pipe(add_standard_drug_name)\n",
    "    .filter(c.drug_name.is_not_null())\n",
    "    .filter(c.hcpcs.is_not_null())\n",
    "    .group_by('hcpcs', 'drug_name')\n",
    "    .agg(pl.len().alias('num_lines'), c.hospital_id.n_unique().alias('num_hospitals'))\n",
    "    .sort('num_lines', descending=True)\n",
    "    .head(20)\n",
    "    .collect(engine=\"streaming\")\n",
    "    .to_pandas()\n",
    ")"
   ]
  },
  {
   "cell_type": "code",
   "execution_count": null,
   "id": "89fc92a0",
   "metadata": {},
   "outputs": [],
   "source": []
  }
 ],
 "metadata": {
  "kernelspec": {
   "display_name": "PRA_REPORT",
   "language": "python",
   "name": "python3"
  },
  "language_info": {
   "codemirror_mode": {
    "name": "ipython",
    "version": 3
   },
   "file_extension": ".py",
   "mimetype": "text/x-python",
   "name": "python",
   "nbconvert_exporter": "python",
   "pygments_lexer": "ipython3",
   "version": "3.13.5"
  }
 },
 "nbformat": 4,
 "nbformat_minor": 5
}
