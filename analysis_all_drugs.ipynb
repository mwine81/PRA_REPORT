{
 "cells": [
  {
   "cell_type": "code",
   "execution_count": 6,
   "id": "e174fed4",
   "metadata": {},
   "outputs": [],
   "source": [
    "from data_loaders import DataLoaders as dl\n",
    "import polars as pl\n",
    "from polars import col as c\n",
    "import polars.selectors as cs\n",
    "import analysis\n",
    "import importlib"
   ]
  },
  {
   "cell_type": "markdown",
   "id": "a19f7393",
   "metadata": {},
   "source": [
    "### Product Overview Report\n",
    "- unique drug names is based on GPI-10 generic name from Medispan\n",
    "- A single ndc was mapped to each HCPCS code based on the ASP NDC crosswalk file from CMS\n",
    "    - the NDC was then mapped to MEDISPAN GPI-10 generic name\n",
    "- All NDCs were mapped to MEDISPAN GPI-10 generic name\n",
    "- The record (line) coalesced the HCPCS GPI-10 mapping and NDC GPI-10 mapping to get a drug name\n",
    "    - HCPCS mapping was preferred over NDC mapping"
   ]
  },
  {
   "cell_type": "code",
   "execution_count": 5,
   "id": "e7fa6693",
   "metadata": {},
   "outputs": [
    {
     "data": {
      "application/vnd.microsoft.datawrangler.viewer.v0+json": {
       "columns": [
        {
         "name": "index",
         "rawType": "int64",
         "type": "integer"
        },
        {
         "name": "total_lines",
         "rawType": "uint32",
         "type": "integer"
        },
        {
         "name": "lines_w_drug_names",
         "rawType": "uint32",
         "type": "integer"
        },
        {
         "name": "hcpcs_lines",
         "rawType": "uint32",
         "type": "integer"
        },
        {
         "name": "ndc_lines",
         "rawType": "uint32",
         "type": "integer"
        },
        {
         "name": "unique_drug_names",
         "rawType": "uint32",
         "type": "integer"
        },
        {
         "name": "unique_hcpcs",
         "rawType": "uint32",
         "type": "integer"
        },
        {
         "name": "hcpcs_with_drug_name",
         "rawType": "uint32",
         "type": "integer"
        },
        {
         "name": "unique_ndcs",
         "rawType": "uint32",
         "type": "integer"
        }
       ],
       "ref": "b2c8c9f7-8683-4cc1-9f99-d46690d03e6e",
       "rows": [
        [
         "0",
         "31103488",
         "27701156",
         "30734391",
         "21001799",
         "2402",
         "1327",
         "1094",
         "70482"
        ]
       ],
       "shape": {
        "columns": 8,
        "rows": 1
       }
      },
      "text/html": [
       "<div>\n",
       "<style scoped>\n",
       "    .dataframe tbody tr th:only-of-type {\n",
       "        vertical-align: middle;\n",
       "    }\n",
       "\n",
       "    .dataframe tbody tr th {\n",
       "        vertical-align: top;\n",
       "    }\n",
       "\n",
       "    .dataframe thead th {\n",
       "        text-align: right;\n",
       "    }\n",
       "</style>\n",
       "<table border=\"1\" class=\"dataframe\">\n",
       "  <thead>\n",
       "    <tr style=\"text-align: right;\">\n",
       "      <th></th>\n",
       "      <th>total_lines</th>\n",
       "      <th>lines_w_drug_names</th>\n",
       "      <th>hcpcs_lines</th>\n",
       "      <th>ndc_lines</th>\n",
       "      <th>unique_drug_names</th>\n",
       "      <th>unique_hcpcs</th>\n",
       "      <th>hcpcs_with_drug_name</th>\n",
       "      <th>unique_ndcs</th>\n",
       "    </tr>\n",
       "  </thead>\n",
       "  <tbody>\n",
       "    <tr>\n",
       "      <th>0</th>\n",
       "      <td>31103488</td>\n",
       "      <td>27701156</td>\n",
       "      <td>30734391</td>\n",
       "      <td>21001799</td>\n",
       "      <td>2402</td>\n",
       "      <td>1327</td>\n",
       "      <td>1094</td>\n",
       "      <td>70482</td>\n",
       "    </tr>\n",
       "  </tbody>\n",
       "</table>\n",
       "</div>"
      ],
      "text/plain": [
       "   total_lines  lines_w_drug_names  hcpcs_lines  ndc_lines  unique_drug_names  \\\n",
       "0     31103488            27701156     30734391   21001799               2402   \n",
       "\n",
       "   unique_hcpcs  hcpcs_with_drug_name  unique_ndcs  \n",
       "0          1327                  1094        70482  "
      ]
     },
     "execution_count": 5,
     "metadata": {},
     "output_type": "execute_result"
    }
   ],
   "source": [
    "\n",
    "\n",
    "(\n",
    "    (\n",
    "    dl()\n",
    "    .load_hospital_price_table_with_drug_names()\n",
    "    .select(\n",
    "        pl.len().alias('total_lines'),\n",
    "        c.description.filter(c.drug_name.is_not_null()).len().alias('lines_w_drug_names'),\n",
    "        c.description.filter(c.hcpcs.is_not_null()).len().alias('hcpcs_lines'),\n",
    "        c.description.filter(c.ndc.is_not_null()).len().alias('ndc_lines'),\n",
    "        c.drug_name.n_unique().alias('unique_drug_names'),\n",
    "        c.hcpcs.n_unique().alias('unique_hcpcs'),\n",
    "        c.hcpcs.filter(c.drug_name.is_not_null()).n_unique().alias('hcpcs_with_drug_name'),\n",
    "        c.ndc.n_unique().alias('unique_ndcs'),\n",
    "    )\n",
    "    .collect(engine=\"streaming\")\n",
    "    .to_pandas()\n",
    "    )\n",
    ")"
   ]
  },
  {
   "cell_type": "markdown",
   "id": "0879dbd4",
   "metadata": {},
   "source": [
    "### Top 20 Drug Names by Frequency"
   ]
  },
  {
   "cell_type": "code",
   "execution_count": 3,
   "id": "02a661db",
   "metadata": {},
   "outputs": [
    {
     "data": {
      "application/vnd.microsoft.datawrangler.viewer.v0+json": {
       "columns": [
        {
         "name": "index",
         "rawType": "int64",
         "type": "integer"
        },
        {
         "name": "drug_name",
         "rawType": "object",
         "type": "string"
        },
        {
         "name": "num_lines",
         "rawType": "uint32",
         "type": "integer"
        },
        {
         "name": "num_hospitals",
         "rawType": "uint32",
         "type": "integer"
        }
       ],
       "ref": "2488aa5e-6430-413c-aa8b-ddac9148f256",
       "rows": [
        [
         "0",
         "Enoxaparin Sodium",
         "461376",
         "1086"
        ],
        [
         "1",
         "Vancomycin HCl",
         "442115",
         "1108"
        ],
        [
         "2",
         "Heparin Sodium (Porcine)",
         "428010",
         "1093"
        ],
        [
         "3",
         "Sodium Chloride",
         "356677",
         "1036"
        ],
        [
         "4",
         "Ceftriaxone Sodium",
         "304483",
         "1136"
        ],
        [
         "5",
         "Bupivacaine HCl",
         "297263",
         "841"
        ],
        [
         "6",
         "Potassium Chloride",
         "289857",
         "1071"
        ],
        [
         "7",
         "Midazolam HCl",
         "286896",
         "1085"
        ],
        [
         "8",
         "Magnesium Sulfate",
         "266519",
         "1081"
        ],
        [
         "9",
         "Hydromorphone HCl",
         "264068",
         "1048"
        ],
        [
         "10",
         "Morphine Sulfate",
         "260397",
         "1102"
        ],
        [
         "11",
         "Fentanyl Citrate",
         "257083",
         "1076"
        ],
        [
         "12",
         "Piperacillin Sodium-Tazobactam Sodium",
         "250038",
         "1069"
        ],
        [
         "13",
         "Cefazolin Sodium",
         "242495",
         "1113"
        ],
        [
         "14",
         "Darbepoetin Alfa",
         "236003",
         "863"
        ],
        [
         "15",
         "Ropivacaine HCl",
         "221451",
         "902"
        ],
        [
         "16",
         "Ampicillin Sodium",
         "220205",
         "1021"
        ],
        [
         "17",
         "Ketorolac Tromethamine",
         "216627",
         "1132"
        ],
        [
         "18",
         "Dextrose",
         "213092",
         "956"
        ],
        [
         "19",
         "Epinephrine (Anaphylaxis)",
         "205377",
         "1079"
        ]
       ],
       "shape": {
        "columns": 3,
        "rows": 20
       }
      },
      "text/html": [
       "<div>\n",
       "<style scoped>\n",
       "    .dataframe tbody tr th:only-of-type {\n",
       "        vertical-align: middle;\n",
       "    }\n",
       "\n",
       "    .dataframe tbody tr th {\n",
       "        vertical-align: top;\n",
       "    }\n",
       "\n",
       "    .dataframe thead th {\n",
       "        text-align: right;\n",
       "    }\n",
       "</style>\n",
       "<table border=\"1\" class=\"dataframe\">\n",
       "  <thead>\n",
       "    <tr style=\"text-align: right;\">\n",
       "      <th></th>\n",
       "      <th>drug_name</th>\n",
       "      <th>num_lines</th>\n",
       "      <th>num_hospitals</th>\n",
       "    </tr>\n",
       "  </thead>\n",
       "  <tbody>\n",
       "    <tr>\n",
       "      <th>0</th>\n",
       "      <td>Enoxaparin Sodium</td>\n",
       "      <td>461376</td>\n",
       "      <td>1086</td>\n",
       "    </tr>\n",
       "    <tr>\n",
       "      <th>1</th>\n",
       "      <td>Vancomycin HCl</td>\n",
       "      <td>442115</td>\n",
       "      <td>1108</td>\n",
       "    </tr>\n",
       "    <tr>\n",
       "      <th>2</th>\n",
       "      <td>Heparin Sodium (Porcine)</td>\n",
       "      <td>428010</td>\n",
       "      <td>1093</td>\n",
       "    </tr>\n",
       "    <tr>\n",
       "      <th>3</th>\n",
       "      <td>Sodium Chloride</td>\n",
       "      <td>356677</td>\n",
       "      <td>1036</td>\n",
       "    </tr>\n",
       "    <tr>\n",
       "      <th>4</th>\n",
       "      <td>Ceftriaxone Sodium</td>\n",
       "      <td>304483</td>\n",
       "      <td>1136</td>\n",
       "    </tr>\n",
       "    <tr>\n",
       "      <th>5</th>\n",
       "      <td>Bupivacaine HCl</td>\n",
       "      <td>297263</td>\n",
       "      <td>841</td>\n",
       "    </tr>\n",
       "    <tr>\n",
       "      <th>6</th>\n",
       "      <td>Potassium Chloride</td>\n",
       "      <td>289857</td>\n",
       "      <td>1071</td>\n",
       "    </tr>\n",
       "    <tr>\n",
       "      <th>7</th>\n",
       "      <td>Midazolam HCl</td>\n",
       "      <td>286896</td>\n",
       "      <td>1085</td>\n",
       "    </tr>\n",
       "    <tr>\n",
       "      <th>8</th>\n",
       "      <td>Magnesium Sulfate</td>\n",
       "      <td>266519</td>\n",
       "      <td>1081</td>\n",
       "    </tr>\n",
       "    <tr>\n",
       "      <th>9</th>\n",
       "      <td>Hydromorphone HCl</td>\n",
       "      <td>264068</td>\n",
       "      <td>1048</td>\n",
       "    </tr>\n",
       "    <tr>\n",
       "      <th>10</th>\n",
       "      <td>Morphine Sulfate</td>\n",
       "      <td>260397</td>\n",
       "      <td>1102</td>\n",
       "    </tr>\n",
       "    <tr>\n",
       "      <th>11</th>\n",
       "      <td>Fentanyl Citrate</td>\n",
       "      <td>257083</td>\n",
       "      <td>1076</td>\n",
       "    </tr>\n",
       "    <tr>\n",
       "      <th>12</th>\n",
       "      <td>Piperacillin Sodium-Tazobactam Sodium</td>\n",
       "      <td>250038</td>\n",
       "      <td>1069</td>\n",
       "    </tr>\n",
       "    <tr>\n",
       "      <th>13</th>\n",
       "      <td>Cefazolin Sodium</td>\n",
       "      <td>242495</td>\n",
       "      <td>1113</td>\n",
       "    </tr>\n",
       "    <tr>\n",
       "      <th>14</th>\n",
       "      <td>Darbepoetin Alfa</td>\n",
       "      <td>236003</td>\n",
       "      <td>863</td>\n",
       "    </tr>\n",
       "    <tr>\n",
       "      <th>15</th>\n",
       "      <td>Ropivacaine HCl</td>\n",
       "      <td>221451</td>\n",
       "      <td>902</td>\n",
       "    </tr>\n",
       "    <tr>\n",
       "      <th>16</th>\n",
       "      <td>Ampicillin Sodium</td>\n",
       "      <td>220205</td>\n",
       "      <td>1021</td>\n",
       "    </tr>\n",
       "    <tr>\n",
       "      <th>17</th>\n",
       "      <td>Ketorolac Tromethamine</td>\n",
       "      <td>216627</td>\n",
       "      <td>1132</td>\n",
       "    </tr>\n",
       "    <tr>\n",
       "      <th>18</th>\n",
       "      <td>Dextrose</td>\n",
       "      <td>213092</td>\n",
       "      <td>956</td>\n",
       "    </tr>\n",
       "    <tr>\n",
       "      <th>19</th>\n",
       "      <td>Epinephrine (Anaphylaxis)</td>\n",
       "      <td>205377</td>\n",
       "      <td>1079</td>\n",
       "    </tr>\n",
       "  </tbody>\n",
       "</table>\n",
       "</div>"
      ],
      "text/plain": [
       "                                drug_name  num_lines  num_hospitals\n",
       "0                       Enoxaparin Sodium     461376           1086\n",
       "1                          Vancomycin HCl     442115           1108\n",
       "2                Heparin Sodium (Porcine)     428010           1093\n",
       "3                         Sodium Chloride     356677           1036\n",
       "4                      Ceftriaxone Sodium     304483           1136\n",
       "5                         Bupivacaine HCl     297263            841\n",
       "6                      Potassium Chloride     289857           1071\n",
       "7                           Midazolam HCl     286896           1085\n",
       "8                       Magnesium Sulfate     266519           1081\n",
       "9                       Hydromorphone HCl     264068           1048\n",
       "10                       Morphine Sulfate     260397           1102\n",
       "11                       Fentanyl Citrate     257083           1076\n",
       "12  Piperacillin Sodium-Tazobactam Sodium     250038           1069\n",
       "13                       Cefazolin Sodium     242495           1113\n",
       "14                       Darbepoetin Alfa     236003            863\n",
       "15                        Ropivacaine HCl     221451            902\n",
       "16                      Ampicillin Sodium     220205           1021\n",
       "17                 Ketorolac Tromethamine     216627           1132\n",
       "18                               Dextrose     213092            956\n",
       "19              Epinephrine (Anaphylaxis)     205377           1079"
      ]
     },
     "execution_count": 3,
     "metadata": {},
     "output_type": "execute_result"
    }
   ],
   "source": [
    "# Top 20 drugs by number of lines\n",
    "(\n",
    "dl()\n",
    "    .load_hospital_price_table_with_drug_names()\n",
    "    .filter(c.drug_name.is_not_null())\n",
    "    .group_by('drug_name')\n",
    "    .agg(pl.len().alias('num_lines'), c.hospital_id.n_unique().alias('num_hospitals'))\n",
    "    .sort('num_lines', descending=True)\n",
    "    .head(20)\n",
    "    .collect(engine=\"streaming\")\n",
    "    .to_pandas()\n",
    ")"
   ]
  },
  {
   "cell_type": "markdown",
   "id": "60218a92",
   "metadata": {},
   "source": [
    "### Top 20 HCPCS by Frequency"
   ]
  },
  {
   "cell_type": "code",
   "execution_count": 4,
   "id": "0720e4a0",
   "metadata": {},
   "outputs": [
    {
     "data": {
      "application/vnd.microsoft.datawrangler.viewer.v0+json": {
       "columns": [
        {
         "name": "index",
         "rawType": "int64",
         "type": "integer"
        },
        {
         "name": "hcpcs",
         "rawType": "object",
         "type": "string"
        },
        {
         "name": "drug_name",
         "rawType": "object",
         "type": "string"
        },
        {
         "name": "num_lines",
         "rawType": "uint32",
         "type": "integer"
        },
        {
         "name": "num_hospitals",
         "rawType": "uint32",
         "type": "integer"
        }
       ],
       "ref": "79d82f76-76d4-4c16-bde3-d18e8b1bda98",
       "rows": [
        [
         "0",
         "J1650",
         "Enoxaparin Sodium",
         "461280",
         "1086"
        ],
        [
         "1",
         "J1644",
         "Heparin Sodium (Porcine)",
         "404492",
         "1087"
        ],
        [
         "2",
         "J3370",
         "Vancomycin HCl",
         "363356",
         "1091"
        ],
        [
         "3",
         "J0696",
         "Ceftriaxone Sodium",
         "296249",
         "1136"
        ],
        [
         "4",
         "J2250",
         "Midazolam HCl",
         "284768",
         "1084"
        ],
        [
         "5",
         "J3480",
         "Potassium Chloride",
         "283855",
         "1071"
        ],
        [
         "6",
         "J0665",
         "Bupivacaine HCl",
         "272751",
         "805"
        ],
        [
         "7",
         "J3475",
         "Magnesium Sulfate in Dextrose",
         "266406",
         "1081"
        ],
        [
         "8",
         "J3010",
         "Fentanyl Citrate",
         "256025",
         "1076"
        ],
        [
         "9",
         "J2543",
         "Piperacillin Sodium-Tazobactam Sodium",
         "249975",
         "1069"
        ],
        [
         "10",
         "J2795",
         "Ropivacaine HCl",
         "221307",
         "902"
        ],
        [
         "11",
         "J0690",
         "Cefazolin Sodium",
         "220153",
         "1094"
        ],
        [
         "12",
         "J0290",
         "Ampicillin Sodium",
         "220121",
         "1021"
        ],
        [
         "13",
         "J1885",
         "Ketorolac Tromethamine",
         "214245",
         "1132"
        ],
        [
         "14",
         "J2270",
         "Morphine Sulfate",
         "213743",
         "1086"
        ],
        [
         "15",
         "J1100",
         "Dexamethasone Sodium Phosphate",
         "204288",
         "1127"
        ],
        [
         "16",
         "J2704",
         "Propofol",
         "198550",
         "983"
        ],
        [
         "17",
         "J0881",
         "Darbepoetin Alfa",
         "192539",
         "840"
        ],
        [
         "18",
         "J0171",
         "Epinephrine (Anaphylaxis)",
         "192333",
         "1075"
        ],
        [
         "19",
         "J1940",
         "Furosemide",
         "186726",
         "1008"
        ]
       ],
       "shape": {
        "columns": 4,
        "rows": 20
       }
      },
      "text/html": [
       "<div>\n",
       "<style scoped>\n",
       "    .dataframe tbody tr th:only-of-type {\n",
       "        vertical-align: middle;\n",
       "    }\n",
       "\n",
       "    .dataframe tbody tr th {\n",
       "        vertical-align: top;\n",
       "    }\n",
       "\n",
       "    .dataframe thead th {\n",
       "        text-align: right;\n",
       "    }\n",
       "</style>\n",
       "<table border=\"1\" class=\"dataframe\">\n",
       "  <thead>\n",
       "    <tr style=\"text-align: right;\">\n",
       "      <th></th>\n",
       "      <th>hcpcs</th>\n",
       "      <th>drug_name</th>\n",
       "      <th>num_lines</th>\n",
       "      <th>num_hospitals</th>\n",
       "    </tr>\n",
       "  </thead>\n",
       "  <tbody>\n",
       "    <tr>\n",
       "      <th>0</th>\n",
       "      <td>J1650</td>\n",
       "      <td>Enoxaparin Sodium</td>\n",
       "      <td>461280</td>\n",
       "      <td>1086</td>\n",
       "    </tr>\n",
       "    <tr>\n",
       "      <th>1</th>\n",
       "      <td>J1644</td>\n",
       "      <td>Heparin Sodium (Porcine)</td>\n",
       "      <td>404492</td>\n",
       "      <td>1087</td>\n",
       "    </tr>\n",
       "    <tr>\n",
       "      <th>2</th>\n",
       "      <td>J3370</td>\n",
       "      <td>Vancomycin HCl</td>\n",
       "      <td>363356</td>\n",
       "      <td>1091</td>\n",
       "    </tr>\n",
       "    <tr>\n",
       "      <th>3</th>\n",
       "      <td>J0696</td>\n",
       "      <td>Ceftriaxone Sodium</td>\n",
       "      <td>296249</td>\n",
       "      <td>1136</td>\n",
       "    </tr>\n",
       "    <tr>\n",
       "      <th>4</th>\n",
       "      <td>J2250</td>\n",
       "      <td>Midazolam HCl</td>\n",
       "      <td>284768</td>\n",
       "      <td>1084</td>\n",
       "    </tr>\n",
       "    <tr>\n",
       "      <th>5</th>\n",
       "      <td>J3480</td>\n",
       "      <td>Potassium Chloride</td>\n",
       "      <td>283855</td>\n",
       "      <td>1071</td>\n",
       "    </tr>\n",
       "    <tr>\n",
       "      <th>6</th>\n",
       "      <td>J0665</td>\n",
       "      <td>Bupivacaine HCl</td>\n",
       "      <td>272751</td>\n",
       "      <td>805</td>\n",
       "    </tr>\n",
       "    <tr>\n",
       "      <th>7</th>\n",
       "      <td>J3475</td>\n",
       "      <td>Magnesium Sulfate in Dextrose</td>\n",
       "      <td>266406</td>\n",
       "      <td>1081</td>\n",
       "    </tr>\n",
       "    <tr>\n",
       "      <th>8</th>\n",
       "      <td>J3010</td>\n",
       "      <td>Fentanyl Citrate</td>\n",
       "      <td>256025</td>\n",
       "      <td>1076</td>\n",
       "    </tr>\n",
       "    <tr>\n",
       "      <th>9</th>\n",
       "      <td>J2543</td>\n",
       "      <td>Piperacillin Sodium-Tazobactam Sodium</td>\n",
       "      <td>249975</td>\n",
       "      <td>1069</td>\n",
       "    </tr>\n",
       "    <tr>\n",
       "      <th>10</th>\n",
       "      <td>J2795</td>\n",
       "      <td>Ropivacaine HCl</td>\n",
       "      <td>221307</td>\n",
       "      <td>902</td>\n",
       "    </tr>\n",
       "    <tr>\n",
       "      <th>11</th>\n",
       "      <td>J0690</td>\n",
       "      <td>Cefazolin Sodium</td>\n",
       "      <td>220153</td>\n",
       "      <td>1094</td>\n",
       "    </tr>\n",
       "    <tr>\n",
       "      <th>12</th>\n",
       "      <td>J0290</td>\n",
       "      <td>Ampicillin Sodium</td>\n",
       "      <td>220121</td>\n",
       "      <td>1021</td>\n",
       "    </tr>\n",
       "    <tr>\n",
       "      <th>13</th>\n",
       "      <td>J1885</td>\n",
       "      <td>Ketorolac Tromethamine</td>\n",
       "      <td>214245</td>\n",
       "      <td>1132</td>\n",
       "    </tr>\n",
       "    <tr>\n",
       "      <th>14</th>\n",
       "      <td>J2270</td>\n",
       "      <td>Morphine Sulfate</td>\n",
       "      <td>213743</td>\n",
       "      <td>1086</td>\n",
       "    </tr>\n",
       "    <tr>\n",
       "      <th>15</th>\n",
       "      <td>J1100</td>\n",
       "      <td>Dexamethasone Sodium Phosphate</td>\n",
       "      <td>204288</td>\n",
       "      <td>1127</td>\n",
       "    </tr>\n",
       "    <tr>\n",
       "      <th>16</th>\n",
       "      <td>J2704</td>\n",
       "      <td>Propofol</td>\n",
       "      <td>198550</td>\n",
       "      <td>983</td>\n",
       "    </tr>\n",
       "    <tr>\n",
       "      <th>17</th>\n",
       "      <td>J0881</td>\n",
       "      <td>Darbepoetin Alfa</td>\n",
       "      <td>192539</td>\n",
       "      <td>840</td>\n",
       "    </tr>\n",
       "    <tr>\n",
       "      <th>18</th>\n",
       "      <td>J0171</td>\n",
       "      <td>Epinephrine (Anaphylaxis)</td>\n",
       "      <td>192333</td>\n",
       "      <td>1075</td>\n",
       "    </tr>\n",
       "    <tr>\n",
       "      <th>19</th>\n",
       "      <td>J1940</td>\n",
       "      <td>Furosemide</td>\n",
       "      <td>186726</td>\n",
       "      <td>1008</td>\n",
       "    </tr>\n",
       "  </tbody>\n",
       "</table>\n",
       "</div>"
      ],
      "text/plain": [
       "    hcpcs                              drug_name  num_lines  num_hospitals\n",
       "0   J1650                      Enoxaparin Sodium     461280           1086\n",
       "1   J1644               Heparin Sodium (Porcine)     404492           1087\n",
       "2   J3370                         Vancomycin HCl     363356           1091\n",
       "3   J0696                     Ceftriaxone Sodium     296249           1136\n",
       "4   J2250                          Midazolam HCl     284768           1084\n",
       "5   J3480                     Potassium Chloride     283855           1071\n",
       "6   J0665                        Bupivacaine HCl     272751            805\n",
       "7   J3475          Magnesium Sulfate in Dextrose     266406           1081\n",
       "8   J3010                       Fentanyl Citrate     256025           1076\n",
       "9   J2543  Piperacillin Sodium-Tazobactam Sodium     249975           1069\n",
       "10  J2795                        Ropivacaine HCl     221307            902\n",
       "11  J0690                       Cefazolin Sodium     220153           1094\n",
       "12  J0290                      Ampicillin Sodium     220121           1021\n",
       "13  J1885                 Ketorolac Tromethamine     214245           1132\n",
       "14  J2270                       Morphine Sulfate     213743           1086\n",
       "15  J1100         Dexamethasone Sodium Phosphate     204288           1127\n",
       "16  J2704                               Propofol     198550            983\n",
       "17  J0881                       Darbepoetin Alfa     192539            840\n",
       "18  J0171              Epinephrine (Anaphylaxis)     192333           1075\n",
       "19  J1940                             Furosemide     186726           1008"
      ]
     },
     "execution_count": 4,
     "metadata": {},
     "output_type": "execute_result"
    }
   ],
   "source": [
    "# Top 20 HCPCS by number of lines with drug names\n",
    "(\n",
    "dl()\n",
    "    .load_hospital_price_table_with_drug_names()\n",
    "    .filter(c.drug_name.is_not_null())\n",
    "    .filter(c.hcpcs.is_not_null())\n",
    "    .group_by('hcpcs', 'drug_name')\n",
    "    .agg(pl.len().alias('num_lines'), c.hospital_id.n_unique().alias('num_hospitals'))\n",
    "    .sort('num_lines', descending=True)\n",
    "    .head(20)\n",
    "    .collect(engine=\"streaming\")\n",
    "    .to_pandas()\n",
    ")"
   ]
  },
  {
   "cell_type": "code",
   "execution_count": 17,
   "id": "89fc92a0",
   "metadata": {},
   "outputs": [],
   "source": [
    "def average_unique_prices_per_hospital_by_product_classification(product_classification):    \n",
    "    return (\n",
    "    dl\n",
    "    .load_hospital_price_table_with_drug_names()\n",
    "    # filter out rows with null product classification\n",
    "    .filter(pl.col(f'{product_classification}').is_not_null())\n",
    "    # group by hospital and product classification (ndc, hcpcs, drug_name)\n",
    "    .group_by(c.hospital_id, product_classification)\n",
    "    # count unique prices for each product and price type at each hospital\n",
    "    .agg(cs.matches('(?i)gross|dollar$|cash').n_unique().name.suffix(f'_{product_classification}'))\n",
    "    # then average those unique price counts across all products at each hospital\n",
    "    .group_by(c.hospital_id)\n",
    "    .agg(\n",
    "        cs.numeric().mean().round(1))\n",
    "    # then average those unique price counts across all hospitals\n",
    "    .select(\n",
    "        cs.numeric().mean().round(1).name.prefix('avg_')\n",
    "    )\n",
    "    )\n"
   ]
  },
  {
   "cell_type": "markdown",
   "id": "7f10db01",
   "metadata": {},
   "source": [
    "### Average Unique Prices for HCPCS by Hospital"
   ]
  },
  {
   "cell_type": "code",
   "execution_count": 18,
   "id": "21c1477f",
   "metadata": {},
   "outputs": [
    {
     "data": {
      "application/vnd.microsoft.datawrangler.viewer.v0+json": {
       "columns": [
        {
         "name": "index",
         "rawType": "int64",
         "type": "integer"
        },
        {
         "name": "avg_standard_charge_gross_hcpcs",
         "rawType": "float64",
         "type": "float"
        },
        {
         "name": "avg_standard_charge_discounted_cash_hcpcs",
         "rawType": "float64",
         "type": "float"
        },
        {
         "name": "avg_standard_charge_negotiated_dollar_hcpcs",
         "rawType": "float64",
         "type": "float"
        }
       ],
       "ref": "1f8547ea-c386-47e4-9d59-3b1e8ebe0292",
       "rows": [
        [
         "0",
         "2.3",
         "2.3",
         "19.6"
        ]
       ],
       "shape": {
        "columns": 3,
        "rows": 1
       }
      },
      "text/html": [
       "<div>\n",
       "<style scoped>\n",
       "    .dataframe tbody tr th:only-of-type {\n",
       "        vertical-align: middle;\n",
       "    }\n",
       "\n",
       "    .dataframe tbody tr th {\n",
       "        vertical-align: top;\n",
       "    }\n",
       "\n",
       "    .dataframe thead th {\n",
       "        text-align: right;\n",
       "    }\n",
       "</style>\n",
       "<table border=\"1\" class=\"dataframe\">\n",
       "  <thead>\n",
       "    <tr style=\"text-align: right;\">\n",
       "      <th></th>\n",
       "      <th>avg_standard_charge_gross_hcpcs</th>\n",
       "      <th>avg_standard_charge_discounted_cash_hcpcs</th>\n",
       "      <th>avg_standard_charge_negotiated_dollar_hcpcs</th>\n",
       "    </tr>\n",
       "  </thead>\n",
       "  <tbody>\n",
       "    <tr>\n",
       "      <th>0</th>\n",
       "      <td>2.3</td>\n",
       "      <td>2.3</td>\n",
       "      <td>19.6</td>\n",
       "    </tr>\n",
       "  </tbody>\n",
       "</table>\n",
       "</div>"
      ],
      "text/plain": [
       "   avg_standard_charge_gross_hcpcs  avg_standard_charge_discounted_cash_hcpcs  \\\n",
       "0                              2.3                                        2.3   \n",
       "\n",
       "   avg_standard_charge_negotiated_dollar_hcpcs  \n",
       "0                                         19.6  "
      ]
     },
     "execution_count": 18,
     "metadata": {},
     "output_type": "execute_result"
    }
   ],
   "source": [
    "# Average unique prices per hospital by product classification\n",
    "average_unique_prices_per_hospital_by_product_classification('hcpcs').collect(engine='streaming').to_pandas()"
   ]
  },
  {
   "cell_type": "markdown",
   "id": "38a9e95f",
   "metadata": {},
   "source": [
    "### Average Unique Prices for Drug Name (GPI-10) by Hospital"
   ]
  },
  {
   "cell_type": "code",
   "execution_count": 19,
   "id": "e5ea0c27",
   "metadata": {},
   "outputs": [
    {
     "data": {
      "application/vnd.microsoft.datawrangler.viewer.v0+json": {
       "columns": [
        {
         "name": "index",
         "rawType": "int64",
         "type": "integer"
        },
        {
         "name": "avg_standard_charge_gross_drug_name",
         "rawType": "float64",
         "type": "float"
        },
        {
         "name": "avg_standard_charge_discounted_cash_drug_name",
         "rawType": "float64",
         "type": "float"
        },
        {
         "name": "avg_standard_charge_negotiated_dollar_drug_name",
         "rawType": "float64",
         "type": "float"
        }
       ],
       "ref": "2f039e1d-ddca-49d1-9dd1-d0992d51fc7c",
       "rows": [
        [
         "0",
         "2.1",
         "2.0",
         "19.1"
        ]
       ],
       "shape": {
        "columns": 3,
        "rows": 1
       }
      },
      "text/html": [
       "<div>\n",
       "<style scoped>\n",
       "    .dataframe tbody tr th:only-of-type {\n",
       "        vertical-align: middle;\n",
       "    }\n",
       "\n",
       "    .dataframe tbody tr th {\n",
       "        vertical-align: top;\n",
       "    }\n",
       "\n",
       "    .dataframe thead th {\n",
       "        text-align: right;\n",
       "    }\n",
       "</style>\n",
       "<table border=\"1\" class=\"dataframe\">\n",
       "  <thead>\n",
       "    <tr style=\"text-align: right;\">\n",
       "      <th></th>\n",
       "      <th>avg_standard_charge_gross_drug_name</th>\n",
       "      <th>avg_standard_charge_discounted_cash_drug_name</th>\n",
       "      <th>avg_standard_charge_negotiated_dollar_drug_name</th>\n",
       "    </tr>\n",
       "  </thead>\n",
       "  <tbody>\n",
       "    <tr>\n",
       "      <th>0</th>\n",
       "      <td>2.1</td>\n",
       "      <td>2.0</td>\n",
       "      <td>19.1</td>\n",
       "    </tr>\n",
       "  </tbody>\n",
       "</table>\n",
       "</div>"
      ],
      "text/plain": [
       "   avg_standard_charge_gross_drug_name  \\\n",
       "0                                  2.1   \n",
       "\n",
       "   avg_standard_charge_discounted_cash_drug_name  \\\n",
       "0                                            2.0   \n",
       "\n",
       "   avg_standard_charge_negotiated_dollar_drug_name  \n",
       "0                                             19.1  "
      ]
     },
     "execution_count": 19,
     "metadata": {},
     "output_type": "execute_result"
    }
   ],
   "source": [
    "average_unique_prices_per_hospital_by_product_classification('drug_name').collect(engine='streaming').to_pandas()"
   ]
  },
  {
   "cell_type": "markdown",
   "id": "40174abb",
   "metadata": {},
   "source": [
    "### Average Unique Prices for NDC by Hospital\n"
   ]
  },
  {
   "cell_type": "markdown",
   "id": "3a9079d7",
   "metadata": {},
   "source": []
  },
  {
   "cell_type": "code",
   "execution_count": 20,
   "id": "4f12e777",
   "metadata": {},
   "outputs": [
    {
     "data": {
      "application/vnd.microsoft.datawrangler.viewer.v0+json": {
       "columns": [
        {
         "name": "index",
         "rawType": "int64",
         "type": "integer"
        },
        {
         "name": "avg_standard_charge_gross_ndc",
         "rawType": "float64",
         "type": "float"
        },
        {
         "name": "avg_standard_charge_discounted_cash_ndc",
         "rawType": "float64",
         "type": "float"
        },
        {
         "name": "avg_standard_charge_negotiated_dollar_ndc",
         "rawType": "float64",
         "type": "float"
        }
       ],
       "ref": "87387407-4f45-44c6-a884-cc4d60627030",
       "rows": [
        [
         "0",
         "1.1",
         "1.1",
         "10.9"
        ]
       ],
       "shape": {
        "columns": 3,
        "rows": 1
       }
      },
      "text/html": [
       "<div>\n",
       "<style scoped>\n",
       "    .dataframe tbody tr th:only-of-type {\n",
       "        vertical-align: middle;\n",
       "    }\n",
       "\n",
       "    .dataframe tbody tr th {\n",
       "        vertical-align: top;\n",
       "    }\n",
       "\n",
       "    .dataframe thead th {\n",
       "        text-align: right;\n",
       "    }\n",
       "</style>\n",
       "<table border=\"1\" class=\"dataframe\">\n",
       "  <thead>\n",
       "    <tr style=\"text-align: right;\">\n",
       "      <th></th>\n",
       "      <th>avg_standard_charge_gross_ndc</th>\n",
       "      <th>avg_standard_charge_discounted_cash_ndc</th>\n",
       "      <th>avg_standard_charge_negotiated_dollar_ndc</th>\n",
       "    </tr>\n",
       "  </thead>\n",
       "  <tbody>\n",
       "    <tr>\n",
       "      <th>0</th>\n",
       "      <td>1.1</td>\n",
       "      <td>1.1</td>\n",
       "      <td>10.9</td>\n",
       "    </tr>\n",
       "  </tbody>\n",
       "</table>\n",
       "</div>"
      ],
      "text/plain": [
       "   avg_standard_charge_gross_ndc  avg_standard_charge_discounted_cash_ndc  \\\n",
       "0                            1.1                                      1.1   \n",
       "\n",
       "   avg_standard_charge_negotiated_dollar_ndc  \n",
       "0                                       10.9  "
      ]
     },
     "execution_count": 20,
     "metadata": {},
     "output_type": "execute_result"
    }
   ],
   "source": [
    "average_unique_prices_per_hospital_by_product_classification('ndc').collect(engine='streaming').to_pandas()"
   ]
  },
  {
   "cell_type": "markdown",
   "id": "b228580f",
   "metadata": {},
   "source": [
    "### How does Average Inpatient vs Outpatient Prices Vary by Hospital\n",
    "1. Identify all hospital with prices for inpatient and outpatient services at a ndc, drug_name (gpi-10), and hcpcs level\n",
    "2. Calculate average price for each observation at each level (ndc, drug_name (gpi-10), and hcpcs)\n",
    "3. Calculate the difference between inpatient and outpatient prices for each observation at each level (ndc, drug_name (gpi-10), and hcpcs)\n"
   ]
  },
  {
   "cell_type": "code",
   "execution_count": 24,
   "id": "37ed6738",
   "metadata": {},
   "outputs": [
    {
     "data": {
      "application/vnd.microsoft.datawrangler.viewer.v0+json": {
       "columns": [
        {
         "name": "index",
         "rawType": "int64",
         "type": "integer"
        },
        {
         "name": "product_type",
         "rawType": "object",
         "type": "string"
        },
        {
         "name": "row_ct",
         "rawType": "uint32",
         "type": "integer"
        },
        {
         "name": "unique_hospitals",
         "rawType": "uint32",
         "type": "integer"
        },
        {
         "name": "avg_outpatient_price",
         "rawType": "float64",
         "type": "float"
        },
        {
         "name": "avg_inpatient_price",
         "rawType": "float64",
         "type": "float"
        },
        {
         "name": "avg_outpatient_diff",
         "rawType": "float64",
         "type": "float"
        }
       ],
       "ref": "231025fb-71c5-447a-946f-87f13a762a40",
       "rows": [
        [
         "0",
         "ndc",
         "343993",
         "423",
         "2971.47",
         "3798.95",
         "-827.48"
        ],
        [
         "1",
         "hcpcs",
         "94132",
         "423",
         "2910.85",
         "4013.43",
         "-1102.57"
        ],
        [
         "2",
         "drug_name",
         "94886",
         "422",
         "2118.67",
         "3193.2",
         "-1074.53"
        ]
       ],
       "shape": {
        "columns": 6,
        "rows": 3
       }
      },
      "text/html": [
       "<div>\n",
       "<style scoped>\n",
       "    .dataframe tbody tr th:only-of-type {\n",
       "        vertical-align: middle;\n",
       "    }\n",
       "\n",
       "    .dataframe tbody tr th {\n",
       "        vertical-align: top;\n",
       "    }\n",
       "\n",
       "    .dataframe thead th {\n",
       "        text-align: right;\n",
       "    }\n",
       "</style>\n",
       "<table border=\"1\" class=\"dataframe\">\n",
       "  <thead>\n",
       "    <tr style=\"text-align: right;\">\n",
       "      <th></th>\n",
       "      <th>product_type</th>\n",
       "      <th>row_ct</th>\n",
       "      <th>unique_hospitals</th>\n",
       "      <th>avg_outpatient_price</th>\n",
       "      <th>avg_inpatient_price</th>\n",
       "      <th>avg_outpatient_diff</th>\n",
       "    </tr>\n",
       "  </thead>\n",
       "  <tbody>\n",
       "    <tr>\n",
       "      <th>0</th>\n",
       "      <td>ndc</td>\n",
       "      <td>343993</td>\n",
       "      <td>423</td>\n",
       "      <td>2971.47</td>\n",
       "      <td>3798.95</td>\n",
       "      <td>-827.48</td>\n",
       "    </tr>\n",
       "    <tr>\n",
       "      <th>1</th>\n",
       "      <td>hcpcs</td>\n",
       "      <td>94132</td>\n",
       "      <td>423</td>\n",
       "      <td>2910.85</td>\n",
       "      <td>4013.43</td>\n",
       "      <td>-1102.57</td>\n",
       "    </tr>\n",
       "    <tr>\n",
       "      <th>2</th>\n",
       "      <td>drug_name</td>\n",
       "      <td>94886</td>\n",
       "      <td>422</td>\n",
       "      <td>2118.67</td>\n",
       "      <td>3193.20</td>\n",
       "      <td>-1074.53</td>\n",
       "    </tr>\n",
       "  </tbody>\n",
       "</table>\n",
       "</div>"
      ],
      "text/plain": [
       "  product_type  row_ct  unique_hospitals  avg_outpatient_price  \\\n",
       "0          ndc  343993               423               2971.47   \n",
       "1        hcpcs   94132               423               2910.85   \n",
       "2    drug_name   94886               422               2118.67   \n",
       "\n",
       "   avg_inpatient_price  avg_outpatient_diff  \n",
       "0              3798.95              -827.48  \n",
       "1              4013.43             -1102.57  \n",
       "2              3193.20             -1074.53  "
      ]
     },
     "execution_count": 24,
     "metadata": {},
     "output_type": "execute_result"
    }
   ],
   "source": [
    "def inpatient_outpatient_price_differences(product_selection) -> pl.DataFrame:\n",
    "    return (\n",
    "    dl\n",
    "    .load_hospital_price_table_with_drug_names()\n",
    "    .filter(c.setting.str.contains('(?i)in|out'))\n",
    "    .group_by(c.hospital_id, c.setting, product_selection)\n",
    "    .agg(\n",
    "        c.standard_charge_negotiated_dollar.mean().round(2),\n",
    "    )\n",
    "    .collect(engine='streaming')\n",
    "    .pivot(\n",
    "        on='setting',\n",
    "        index=['hospital_id', product_selection],\n",
    "    )\n",
    "    .filter(c.outpatient.is_not_null() & c.inpatient.is_not_null())\n",
    "    .with_columns(c.outpatient.sub(c.inpatient).round(2).alias('outpatient_diff'))\n",
    "    .select(\n",
    "        pl.lit(product_selection).alias('product_type'),\n",
    "        pl.len().alias('row_ct'),\n",
    "        c.hospital_id.n_unique().alias('unique_hospitals'),\n",
    "        c.outpatient.mean().round(2).alias('avg_outpatient_price'),\n",
    "        c.inpatient.mean().round(2).alias('avg_inpatient_price'),\n",
    "        c.outpatient_diff.mean().round(2).alias('avg_outpatient_diff'),\n",
    "    )\n",
    "    )\n",
    "\n",
    "pl.concat([inpatient_outpatient_price_differences(selection) for selection in ['ndc', 'hcpcs', 'drug_name']]).to_pandas()"
   ]
  },
  {
   "cell_type": "code",
   "execution_count": null,
   "id": "0e14f237",
   "metadata": {},
   "outputs": [],
   "source": []
  },
  {
   "cell_type": "code",
   "execution_count": null,
   "id": "b03f2d76",
   "metadata": {},
   "outputs": [],
   "source": []
  }
 ],
 "metadata": {
  "kernelspec": {
   "display_name": "PRA_REPORT",
   "language": "python",
   "name": "python3"
  },
  "language_info": {
   "codemirror_mode": {
    "name": "ipython",
    "version": 3
   },
   "file_extension": ".py",
   "mimetype": "text/x-python",
   "name": "python",
   "nbconvert_exporter": "python",
   "pygments_lexer": "ipython3",
   "version": "3.13.5"
  }
 },
 "nbformat": 4,
 "nbformat_minor": 5
}
