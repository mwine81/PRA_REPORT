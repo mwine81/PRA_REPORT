{
 "cells": [
  {
   "cell_type": "code",
   "execution_count": 8,
   "id": "7e83f4f6",
   "metadata": {},
   "outputs": [],
   "source": [
    "from data_loaders import DataLoaders as dl\n",
    "import polars as pl\n",
    "from polars import col as c\n",
    "import polars.selectors as cs\n",
    "import analysis\n",
    "import importlib"
   ]
  },
  {
   "cell_type": "markdown",
   "id": "37e2735f",
   "metadata": {},
   "source": [
    "### Overview of products, class, and ndc table"
   ]
  },
  {
   "cell_type": "code",
   "execution_count": 5,
   "id": "84afe39a",
   "metadata": {},
   "outputs": [
    {
     "data": {
      "application/vnd.microsoft.datawrangler.viewer.v0+json": {
       "columns": [
        {
         "name": "index",
         "rawType": "int64",
         "type": "integer"
        },
        {
         "name": "product",
         "rawType": "object",
         "type": "string"
        },
        {
         "name": "gpi_4_class",
         "rawType": "object",
         "type": "string"
        },
        {
         "name": "ndc",
         "rawType": "object",
         "type": "unknown"
        }
       ],
       "ref": "eb010fb3-d70c-4f4f-81ca-c8e790bb2181",
       "rows": [
        [
         "0",
         "HYDROXYprogesterone Caproate Intramuscular Solution 1.25 GM/5ML",
         "Antineoplastic - Hormonal and Related Agents",
         "['67457088605']"
        ],
        [
         "1",
         "Lumakras Oral Tablet 240 MG",
         "Antineoplastic Enzyme Inhibitors",
         "['55513051260']"
        ],
        [
         "2",
         "Kyprolis Intravenous Solution Reconstituted 30 MG",
         "Antineoplastic Enzyme Inhibitors",
         "['76075010201']"
        ],
        [
         "3",
         "Elrexfio Subcutaneous Solution 44 MG/1.1ML",
         "Antineoplastic - Antibodies",
         "['00069252201' '00069252202']"
        ],
        [
         "4",
         "Glatopa Subcutaneous Solution Prefilled Syringe 20 MG/ML",
         "Multiple Sclerosis Agents",
         "['00781323434' '00781323471' '63629881501']"
        ]
       ],
       "shape": {
        "columns": 3,
        "rows": 5
       }
      },
      "text/html": [
       "<div>\n",
       "<style scoped>\n",
       "    .dataframe tbody tr th:only-of-type {\n",
       "        vertical-align: middle;\n",
       "    }\n",
       "\n",
       "    .dataframe tbody tr th {\n",
       "        vertical-align: top;\n",
       "    }\n",
       "\n",
       "    .dataframe thead th {\n",
       "        text-align: right;\n",
       "    }\n",
       "</style>\n",
       "<table border=\"1\" class=\"dataframe\">\n",
       "  <thead>\n",
       "    <tr style=\"text-align: right;\">\n",
       "      <th></th>\n",
       "      <th>product</th>\n",
       "      <th>gpi_4_class</th>\n",
       "      <th>ndc</th>\n",
       "    </tr>\n",
       "  </thead>\n",
       "  <tbody>\n",
       "    <tr>\n",
       "      <th>0</th>\n",
       "      <td>HYDROXYprogesterone Caproate Intramuscular Sol...</td>\n",
       "      <td>Antineoplastic - Hormonal and Related Agents</td>\n",
       "      <td>[67457088605]</td>\n",
       "    </tr>\n",
       "    <tr>\n",
       "      <th>1</th>\n",
       "      <td>Lumakras Oral Tablet 240 MG</td>\n",
       "      <td>Antineoplastic Enzyme Inhibitors</td>\n",
       "      <td>[55513051260]</td>\n",
       "    </tr>\n",
       "    <tr>\n",
       "      <th>2</th>\n",
       "      <td>Kyprolis Intravenous Solution Reconstituted 30 MG</td>\n",
       "      <td>Antineoplastic Enzyme Inhibitors</td>\n",
       "      <td>[76075010201]</td>\n",
       "    </tr>\n",
       "    <tr>\n",
       "      <th>3</th>\n",
       "      <td>Elrexfio Subcutaneous Solution 44 MG/1.1ML</td>\n",
       "      <td>Antineoplastic - Antibodies</td>\n",
       "      <td>[00069252201, 00069252202]</td>\n",
       "    </tr>\n",
       "    <tr>\n",
       "      <th>4</th>\n",
       "      <td>Glatopa Subcutaneous Solution Prefilled Syring...</td>\n",
       "      <td>Multiple Sclerosis Agents</td>\n",
       "      <td>[00781323434, 00781323471, 63629881501]</td>\n",
       "    </tr>\n",
       "  </tbody>\n",
       "</table>\n",
       "</div>"
      ],
      "text/plain": [
       "                                             product  \\\n",
       "0  HYDROXYprogesterone Caproate Intramuscular Sol...   \n",
       "1                        Lumakras Oral Tablet 240 MG   \n",
       "2  Kyprolis Intravenous Solution Reconstituted 30 MG   \n",
       "3         Elrexfio Subcutaneous Solution 44 MG/1.1ML   \n",
       "4  Glatopa Subcutaneous Solution Prefilled Syring...   \n",
       "\n",
       "                                    gpi_4_class  \\\n",
       "0  Antineoplastic - Hormonal and Related Agents   \n",
       "1              Antineoplastic Enzyme Inhibitors   \n",
       "2              Antineoplastic Enzyme Inhibitors   \n",
       "3                   Antineoplastic - Antibodies   \n",
       "4                     Multiple Sclerosis Agents   \n",
       "\n",
       "                                       ndc  \n",
       "0                            [67457088605]  \n",
       "1                            [55513051260]  \n",
       "2                            [76075010201]  \n",
       "3               [00069252201, 00069252202]  \n",
       "4  [00781323434, 00781323471, 63629881501]  "
      ]
     },
     "execution_count": 5,
     "metadata": {},
     "output_type": "execute_result"
    }
   ],
   "source": [
    "# function to filter for cancer and multiple sclerosis drugs using gpi_4_class\n",
    "importlib.reload(analysis)\n",
    "from analysis import cancer_and_ms_ndcs\n",
    "\n",
    "# example usage of first 5 rows\n",
    "cancer_and_ms_ndcs().collect(engine='streaming').head().to_pandas()"
   ]
  },
  {
   "cell_type": "code",
   "execution_count": 10,
   "id": "47a9dec8",
   "metadata": {},
   "outputs": [
    {
     "data": {
      "application/vnd.microsoft.datawrangler.viewer.v0+json": {
       "columns": [
        {
         "name": "index",
         "rawType": "int64",
         "type": "integer"
        },
        {
         "name": "hospital_id",
         "rawType": "object",
         "type": "string"
        },
        {
         "name": "description",
         "rawType": "object",
         "type": "string"
        },
        {
         "name": "setting",
         "rawType": "object",
         "type": "string"
        },
        {
         "name": "drug_unit_of_measurement",
         "rawType": "float64",
         "type": "float"
        },
        {
         "name": "drug_type_of_measurement",
         "rawType": "object",
         "type": "string"
        },
        {
         "name": "standard_charge_gross",
         "rawType": "float64",
         "type": "float"
        },
        {
         "name": "standard_charge_discounted_cash",
         "rawType": "float64",
         "type": "float"
        },
        {
         "name": "standard_charge_negotiated_dollar",
         "rawType": "float64",
         "type": "float"
        },
        {
         "name": "plan_name",
         "rawType": "object",
         "type": "string"
        },
        {
         "name": "payer_name",
         "rawType": "object",
         "type": "string"
        },
        {
         "name": "standard_charge_methodology",
         "rawType": "object",
         "type": "string"
        },
        {
         "name": "standard_charge_negotiated_percentage",
         "rawType": "float64",
         "type": "float"
        },
        {
         "name": "hcpcs",
         "rawType": "object",
         "type": "string"
        },
        {
         "name": "ndc",
         "rawType": "object",
         "type": "string"
        },
        {
         "name": "calculated_negotiated_dollars",
         "rawType": "bool",
         "type": "boolean"
        },
        {
         "name": "mapped_plan_name",
         "rawType": "object",
         "type": "unknown"
        },
        {
         "name": "mapped_lob_name",
         "rawType": "object",
         "type": "unknown"
        },
        {
         "name": "product",
         "rawType": "object",
         "type": "string"
        },
        {
         "name": "gpi_4_class",
         "rawType": "object",
         "type": "string"
        }
       ],
       "ref": "f950c999-9297-4a47-96bb-645b834357b2",
       "rows": [
        [
         "0",
         "483ce101-d0eb-434f-8f40-db066c58aa76",
         "BCG LIVE 50 MG IS SUSR",
         "outpatient",
         "1.0",
         "ea",
         "154.99",
         "154.99",
         "4.99",
         "AETNA MANAGED CARE",
         "AETNA",
         "FEE SCHEDULE",
         null,
         "J9030",
         "00052060202",
         "False",
         "Aetna",
         null,
         "Tice BCG Intravesical Suspension Reconstituted 50 MG",
         "Antineoplastics Misc."
        ],
        [
         "1",
         "483ce101-d0eb-434f-8f40-db066c58aa76",
         "BCG LIVE 50 MG IS SUSR",
         "outpatient",
         "1.0",
         "ea",
         "154.99",
         "154.99",
         "86.47",
         "HEALTH NEW ENGLAND MANAGED CARE",
         "HEALTH NEW ENGLAND",
         "PERCENT OF TOTAL BILLED CHARGES",
         "55.79",
         "J9030",
         "00052060202",
         "True",
         null,
         null,
         "Tice BCG Intravesical Suspension Reconstituted 50 MG",
         "Antineoplastics Misc."
        ],
        [
         "2",
         "483ce101-d0eb-434f-8f40-db066c58aa76",
         "BCG LIVE 50 MG IS SUSR",
         "outpatient",
         "1.0",
         "ea",
         "154.99",
         "154.99",
         "4.22",
         "CIGNA MANAGED CARE",
         "CIGNA",
         "FEE SCHEDULE",
         null,
         "J9030",
         "00052060202",
         "False",
         "Cigna",
         null,
         "Tice BCG Intravesical Suspension Reconstituted 50 MG",
         "Antineoplastics Misc."
        ],
        [
         "3",
         "483ce101-d0eb-434f-8f40-db066c58aa76",
         "BCG LIVE 50 MG IS SUSR",
         "outpatient",
         "1.0",
         "ea",
         "154.99",
         "154.99",
         "4.35",
         "ANTHEM MANAGED CARE",
         "ANTHEM",
         "FEE SCHEDULE",
         null,
         "J9030",
         "00052060202",
         "False",
         "Anthem",
         null,
         "Tice BCG Intravesical Suspension Reconstituted 50 MG",
         "Antineoplastics Misc."
        ],
        [
         "4",
         "483ce101-d0eb-434f-8f40-db066c58aa76",
         "BCG LIVE 50 MG IS SUSR",
         "outpatient",
         "1.0",
         "ea",
         "154.99",
         "154.99",
         "4.74",
         "UNITED MANAGED CARE",
         "UNITED",
         "FEE SCHEDULE",
         null,
         "J9030",
         "00052060202",
         "False",
         "United Health Care",
         null,
         "Tice BCG Intravesical Suspension Reconstituted 50 MG",
         "Antineoplastics Misc."
        ]
       ],
       "shape": {
        "columns": 19,
        "rows": 5
       }
      },
      "text/html": [
       "<div>\n",
       "<style scoped>\n",
       "    .dataframe tbody tr th:only-of-type {\n",
       "        vertical-align: middle;\n",
       "    }\n",
       "\n",
       "    .dataframe tbody tr th {\n",
       "        vertical-align: top;\n",
       "    }\n",
       "\n",
       "    .dataframe thead th {\n",
       "        text-align: right;\n",
       "    }\n",
       "</style>\n",
       "<table border=\"1\" class=\"dataframe\">\n",
       "  <thead>\n",
       "    <tr style=\"text-align: right;\">\n",
       "      <th></th>\n",
       "      <th>hospital_id</th>\n",
       "      <th>description</th>\n",
       "      <th>setting</th>\n",
       "      <th>drug_unit_of_measurement</th>\n",
       "      <th>drug_type_of_measurement</th>\n",
       "      <th>standard_charge_gross</th>\n",
       "      <th>standard_charge_discounted_cash</th>\n",
       "      <th>standard_charge_negotiated_dollar</th>\n",
       "      <th>plan_name</th>\n",
       "      <th>payer_name</th>\n",
       "      <th>standard_charge_methodology</th>\n",
       "      <th>standard_charge_negotiated_percentage</th>\n",
       "      <th>hcpcs</th>\n",
       "      <th>ndc</th>\n",
       "      <th>calculated_negotiated_dollars</th>\n",
       "      <th>mapped_plan_name</th>\n",
       "      <th>mapped_lob_name</th>\n",
       "      <th>product</th>\n",
       "      <th>gpi_4_class</th>\n",
       "    </tr>\n",
       "  </thead>\n",
       "  <tbody>\n",
       "    <tr>\n",
       "      <th>0</th>\n",
       "      <td>483ce101-d0eb-434f-8f40-db066c58aa76</td>\n",
       "      <td>BCG LIVE 50 MG IS SUSR</td>\n",
       "      <td>outpatient</td>\n",
       "      <td>1.0</td>\n",
       "      <td>ea</td>\n",
       "      <td>154.99</td>\n",
       "      <td>154.99</td>\n",
       "      <td>4.99</td>\n",
       "      <td>AETNA MANAGED CARE</td>\n",
       "      <td>AETNA</td>\n",
       "      <td>FEE SCHEDULE</td>\n",
       "      <td>NaN</td>\n",
       "      <td>J9030</td>\n",
       "      <td>00052060202</td>\n",
       "      <td>False</td>\n",
       "      <td>Aetna</td>\n",
       "      <td>None</td>\n",
       "      <td>Tice BCG Intravesical Suspension Reconstituted...</td>\n",
       "      <td>Antineoplastics Misc.</td>\n",
       "    </tr>\n",
       "    <tr>\n",
       "      <th>1</th>\n",
       "      <td>483ce101-d0eb-434f-8f40-db066c58aa76</td>\n",
       "      <td>BCG LIVE 50 MG IS SUSR</td>\n",
       "      <td>outpatient</td>\n",
       "      <td>1.0</td>\n",
       "      <td>ea</td>\n",
       "      <td>154.99</td>\n",
       "      <td>154.99</td>\n",
       "      <td>86.47</td>\n",
       "      <td>HEALTH NEW ENGLAND MANAGED CARE</td>\n",
       "      <td>HEALTH NEW ENGLAND</td>\n",
       "      <td>PERCENT OF TOTAL BILLED CHARGES</td>\n",
       "      <td>55.79</td>\n",
       "      <td>J9030</td>\n",
       "      <td>00052060202</td>\n",
       "      <td>True</td>\n",
       "      <td>None</td>\n",
       "      <td>None</td>\n",
       "      <td>Tice BCG Intravesical Suspension Reconstituted...</td>\n",
       "      <td>Antineoplastics Misc.</td>\n",
       "    </tr>\n",
       "    <tr>\n",
       "      <th>2</th>\n",
       "      <td>483ce101-d0eb-434f-8f40-db066c58aa76</td>\n",
       "      <td>BCG LIVE 50 MG IS SUSR</td>\n",
       "      <td>outpatient</td>\n",
       "      <td>1.0</td>\n",
       "      <td>ea</td>\n",
       "      <td>154.99</td>\n",
       "      <td>154.99</td>\n",
       "      <td>4.22</td>\n",
       "      <td>CIGNA MANAGED CARE</td>\n",
       "      <td>CIGNA</td>\n",
       "      <td>FEE SCHEDULE</td>\n",
       "      <td>NaN</td>\n",
       "      <td>J9030</td>\n",
       "      <td>00052060202</td>\n",
       "      <td>False</td>\n",
       "      <td>Cigna</td>\n",
       "      <td>None</td>\n",
       "      <td>Tice BCG Intravesical Suspension Reconstituted...</td>\n",
       "      <td>Antineoplastics Misc.</td>\n",
       "    </tr>\n",
       "    <tr>\n",
       "      <th>3</th>\n",
       "      <td>483ce101-d0eb-434f-8f40-db066c58aa76</td>\n",
       "      <td>BCG LIVE 50 MG IS SUSR</td>\n",
       "      <td>outpatient</td>\n",
       "      <td>1.0</td>\n",
       "      <td>ea</td>\n",
       "      <td>154.99</td>\n",
       "      <td>154.99</td>\n",
       "      <td>4.35</td>\n",
       "      <td>ANTHEM MANAGED CARE</td>\n",
       "      <td>ANTHEM</td>\n",
       "      <td>FEE SCHEDULE</td>\n",
       "      <td>NaN</td>\n",
       "      <td>J9030</td>\n",
       "      <td>00052060202</td>\n",
       "      <td>False</td>\n",
       "      <td>Anthem</td>\n",
       "      <td>None</td>\n",
       "      <td>Tice BCG Intravesical Suspension Reconstituted...</td>\n",
       "      <td>Antineoplastics Misc.</td>\n",
       "    </tr>\n",
       "    <tr>\n",
       "      <th>4</th>\n",
       "      <td>483ce101-d0eb-434f-8f40-db066c58aa76</td>\n",
       "      <td>BCG LIVE 50 MG IS SUSR</td>\n",
       "      <td>outpatient</td>\n",
       "      <td>1.0</td>\n",
       "      <td>ea</td>\n",
       "      <td>154.99</td>\n",
       "      <td>154.99</td>\n",
       "      <td>4.74</td>\n",
       "      <td>UNITED MANAGED CARE</td>\n",
       "      <td>UNITED</td>\n",
       "      <td>FEE SCHEDULE</td>\n",
       "      <td>NaN</td>\n",
       "      <td>J9030</td>\n",
       "      <td>00052060202</td>\n",
       "      <td>False</td>\n",
       "      <td>United Health Care</td>\n",
       "      <td>None</td>\n",
       "      <td>Tice BCG Intravesical Suspension Reconstituted...</td>\n",
       "      <td>Antineoplastics Misc.</td>\n",
       "    </tr>\n",
       "  </tbody>\n",
       "</table>\n",
       "</div>"
      ],
      "text/plain": [
       "                            hospital_id             description     setting  \\\n",
       "0  483ce101-d0eb-434f-8f40-db066c58aa76  BCG LIVE 50 MG IS SUSR  outpatient   \n",
       "1  483ce101-d0eb-434f-8f40-db066c58aa76  BCG LIVE 50 MG IS SUSR  outpatient   \n",
       "2  483ce101-d0eb-434f-8f40-db066c58aa76  BCG LIVE 50 MG IS SUSR  outpatient   \n",
       "3  483ce101-d0eb-434f-8f40-db066c58aa76  BCG LIVE 50 MG IS SUSR  outpatient   \n",
       "4  483ce101-d0eb-434f-8f40-db066c58aa76  BCG LIVE 50 MG IS SUSR  outpatient   \n",
       "\n",
       "   drug_unit_of_measurement drug_type_of_measurement  standard_charge_gross  \\\n",
       "0                       1.0                       ea                 154.99   \n",
       "1                       1.0                       ea                 154.99   \n",
       "2                       1.0                       ea                 154.99   \n",
       "3                       1.0                       ea                 154.99   \n",
       "4                       1.0                       ea                 154.99   \n",
       "\n",
       "   standard_charge_discounted_cash  standard_charge_negotiated_dollar  \\\n",
       "0                           154.99                               4.99   \n",
       "1                           154.99                              86.47   \n",
       "2                           154.99                               4.22   \n",
       "3                           154.99                               4.35   \n",
       "4                           154.99                               4.74   \n",
       "\n",
       "                         plan_name          payer_name  \\\n",
       "0               AETNA MANAGED CARE               AETNA   \n",
       "1  HEALTH NEW ENGLAND MANAGED CARE  HEALTH NEW ENGLAND   \n",
       "2               CIGNA MANAGED CARE               CIGNA   \n",
       "3              ANTHEM MANAGED CARE              ANTHEM   \n",
       "4              UNITED MANAGED CARE              UNITED   \n",
       "\n",
       "       standard_charge_methodology  standard_charge_negotiated_percentage  \\\n",
       "0                     FEE SCHEDULE                                    NaN   \n",
       "1  PERCENT OF TOTAL BILLED CHARGES                                  55.79   \n",
       "2                     FEE SCHEDULE                                    NaN   \n",
       "3                     FEE SCHEDULE                                    NaN   \n",
       "4                     FEE SCHEDULE                                    NaN   \n",
       "\n",
       "   hcpcs          ndc  calculated_negotiated_dollars    mapped_plan_name  \\\n",
       "0  J9030  00052060202                          False               Aetna   \n",
       "1  J9030  00052060202                           True                None   \n",
       "2  J9030  00052060202                          False               Cigna   \n",
       "3  J9030  00052060202                          False              Anthem   \n",
       "4  J9030  00052060202                          False  United Health Care   \n",
       "\n",
       "  mapped_lob_name                                            product  \\\n",
       "0            None  Tice BCG Intravesical Suspension Reconstituted...   \n",
       "1            None  Tice BCG Intravesical Suspension Reconstituted...   \n",
       "2            None  Tice BCG Intravesical Suspension Reconstituted...   \n",
       "3            None  Tice BCG Intravesical Suspension Reconstituted...   \n",
       "4            None  Tice BCG Intravesical Suspension Reconstituted...   \n",
       "\n",
       "             gpi_4_class  \n",
       "0  Antineoplastics Misc.  \n",
       "1  Antineoplastics Misc.  \n",
       "2  Antineoplastics Misc.  \n",
       "3  Antineoplastics Misc.  \n",
       "4  Antineoplastics Misc.  "
      ]
     },
     "execution_count": 10,
     "metadata": {},
     "output_type": "execute_result"
    }
   ],
   "source": [
    "importlib.reload(analysis)\n",
    "from analysis import load_base_data\n",
    "# load_base_data loads hospital price table and joins with ndcs from cancer_and_ms_ndcs function to limit to cancer and ms drugs\n",
    "\n",
    "# example usage of first 5 rows\n",
    "(\n",
    "load_base_data()\n",
    ".collect(engine='streaming')\n",
    ".head()\n",
    ".to_pandas()\n",
    ")\n"
   ]
  },
  {
   "cell_type": "code",
   "execution_count": 12,
   "id": "7943a194",
   "metadata": {},
   "outputs": [
    {
     "data": {
      "application/vnd.microsoft.datawrangler.viewer.v0+json": {
       "columns": [
        {
         "name": "index",
         "rawType": "int64",
         "type": "integer"
        },
        {
         "name": "gpi_4_class",
         "rawType": "object",
         "type": "string"
        },
        {
         "name": "hospital_id_unique",
         "rawType": "uint32",
         "type": "integer"
        },
        {
         "name": "drug_type_of_measurement_unique",
         "rawType": "uint32",
         "type": "integer"
        },
        {
         "name": "product_unique",
         "rawType": "uint32",
         "type": "integer"
        }
       ],
       "ref": "058bf6ac-18e0-45eb-b0f5-9ff404a48005",
       "rows": [
        [
         "0",
         "Antineoplastic Enzyme Inhibitors",
         "410",
         "5",
         "177"
        ],
        [
         "1",
         "Antineoplastic - Antibodies",
         "462",
         "5",
         "70"
        ],
        [
         "2",
         "Antineoplastic - Hormonal and Related Agents",
         "540",
         "5",
         "50"
        ],
        [
         "3",
         "Antineoplastic Antibiotics",
         "428",
         "6",
         "37"
        ],
        [
         "4",
         "Antineoplastics Misc.",
         "382",
         "6",
         "26"
        ],
        [
         "5",
         "Multiple Sclerosis Agents",
         "388",
         "6",
         "24"
        ],
        [
         "6",
         "Antineoplastic - Angiogenesis Inhibitors",
         "368",
         "4",
         "19"
        ],
        [
         "7",
         "Antineoplastic - EGFR Inhibitors",
         "318",
         "4",
         "16"
        ],
        [
         "8",
         "Antineoplastic Combinations",
         "315",
         "4",
         "13"
        ],
        [
         "9",
         "Antineoplastic - Anti-HER2 Agents",
         "310",
         "4",
         "7"
        ],
        [
         "10",
         "Antineoplastic - XPO1 Inhibitors",
         "10",
         "1",
         "7"
        ],
        [
         "11",
         "Antineoplastic or Premalignant Lesion Agents - Topical",
         "31",
         "4",
         "5"
        ],
        [
         "12",
         "Antineoplastic Enzymes",
         "96",
         "4",
         "4"
        ],
        [
         "13",
         "Antineoplastic - Immunomodulators",
         "28",
         "3",
         "4"
        ],
        [
         "14",
         "Antineoplastic - BCL-2 Inhibitors",
         "27",
         "2",
         "4"
        ],
        [
         "15",
         "Antineoplastic - PDGFR-alpha Inhibitors",
         "10",
         "1",
         "3"
        ],
        [
         "16",
         "Antineoplastic - Menin Inhibitors",
         "1",
         "1",
         "2"
        ],
        [
         "17",
         "Antineoplastic - Hedgehog Pathway Inhibitors",
         "10",
         "1",
         "2"
        ],
        [
         "18",
         "Antineoplastic - Gene Therapy Agents",
         "31",
         "2",
         "1"
        ],
        [
         "19",
         "Antineoplastic - Cellular Immunotherapy",
         "1",
         "1",
         "1"
        ]
       ],
       "shape": {
        "columns": 4,
        "rows": 20
       }
      },
      "text/html": [
       "<div>\n",
       "<style scoped>\n",
       "    .dataframe tbody tr th:only-of-type {\n",
       "        vertical-align: middle;\n",
       "    }\n",
       "\n",
       "    .dataframe tbody tr th {\n",
       "        vertical-align: top;\n",
       "    }\n",
       "\n",
       "    .dataframe thead th {\n",
       "        text-align: right;\n",
       "    }\n",
       "</style>\n",
       "<table border=\"1\" class=\"dataframe\">\n",
       "  <thead>\n",
       "    <tr style=\"text-align: right;\">\n",
       "      <th></th>\n",
       "      <th>gpi_4_class</th>\n",
       "      <th>hospital_id_unique</th>\n",
       "      <th>drug_type_of_measurement_unique</th>\n",
       "      <th>product_unique</th>\n",
       "    </tr>\n",
       "  </thead>\n",
       "  <tbody>\n",
       "    <tr>\n",
       "      <th>0</th>\n",
       "      <td>Antineoplastic Enzyme Inhibitors</td>\n",
       "      <td>410</td>\n",
       "      <td>5</td>\n",
       "      <td>177</td>\n",
       "    </tr>\n",
       "    <tr>\n",
       "      <th>1</th>\n",
       "      <td>Antineoplastic - Antibodies</td>\n",
       "      <td>462</td>\n",
       "      <td>5</td>\n",
       "      <td>70</td>\n",
       "    </tr>\n",
       "    <tr>\n",
       "      <th>2</th>\n",
       "      <td>Antineoplastic - Hormonal and Related Agents</td>\n",
       "      <td>540</td>\n",
       "      <td>5</td>\n",
       "      <td>50</td>\n",
       "    </tr>\n",
       "    <tr>\n",
       "      <th>3</th>\n",
       "      <td>Antineoplastic Antibiotics</td>\n",
       "      <td>428</td>\n",
       "      <td>6</td>\n",
       "      <td>37</td>\n",
       "    </tr>\n",
       "    <tr>\n",
       "      <th>4</th>\n",
       "      <td>Antineoplastics Misc.</td>\n",
       "      <td>382</td>\n",
       "      <td>6</td>\n",
       "      <td>26</td>\n",
       "    </tr>\n",
       "    <tr>\n",
       "      <th>5</th>\n",
       "      <td>Multiple Sclerosis Agents</td>\n",
       "      <td>388</td>\n",
       "      <td>6</td>\n",
       "      <td>24</td>\n",
       "    </tr>\n",
       "    <tr>\n",
       "      <th>6</th>\n",
       "      <td>Antineoplastic - Angiogenesis Inhibitors</td>\n",
       "      <td>368</td>\n",
       "      <td>4</td>\n",
       "      <td>19</td>\n",
       "    </tr>\n",
       "    <tr>\n",
       "      <th>7</th>\n",
       "      <td>Antineoplastic - EGFR Inhibitors</td>\n",
       "      <td>318</td>\n",
       "      <td>4</td>\n",
       "      <td>16</td>\n",
       "    </tr>\n",
       "    <tr>\n",
       "      <th>8</th>\n",
       "      <td>Antineoplastic Combinations</td>\n",
       "      <td>315</td>\n",
       "      <td>4</td>\n",
       "      <td>13</td>\n",
       "    </tr>\n",
       "    <tr>\n",
       "      <th>9</th>\n",
       "      <td>Antineoplastic - Anti-HER2 Agents</td>\n",
       "      <td>310</td>\n",
       "      <td>4</td>\n",
       "      <td>7</td>\n",
       "    </tr>\n",
       "    <tr>\n",
       "      <th>10</th>\n",
       "      <td>Antineoplastic - XPO1 Inhibitors</td>\n",
       "      <td>10</td>\n",
       "      <td>1</td>\n",
       "      <td>7</td>\n",
       "    </tr>\n",
       "    <tr>\n",
       "      <th>11</th>\n",
       "      <td>Antineoplastic or Premalignant Lesion Agents -...</td>\n",
       "      <td>31</td>\n",
       "      <td>4</td>\n",
       "      <td>5</td>\n",
       "    </tr>\n",
       "    <tr>\n",
       "      <th>12</th>\n",
       "      <td>Antineoplastic Enzymes</td>\n",
       "      <td>96</td>\n",
       "      <td>4</td>\n",
       "      <td>4</td>\n",
       "    </tr>\n",
       "    <tr>\n",
       "      <th>13</th>\n",
       "      <td>Antineoplastic - Immunomodulators</td>\n",
       "      <td>28</td>\n",
       "      <td>3</td>\n",
       "      <td>4</td>\n",
       "    </tr>\n",
       "    <tr>\n",
       "      <th>14</th>\n",
       "      <td>Antineoplastic - BCL-2 Inhibitors</td>\n",
       "      <td>27</td>\n",
       "      <td>2</td>\n",
       "      <td>4</td>\n",
       "    </tr>\n",
       "    <tr>\n",
       "      <th>15</th>\n",
       "      <td>Antineoplastic - PDGFR-alpha Inhibitors</td>\n",
       "      <td>10</td>\n",
       "      <td>1</td>\n",
       "      <td>3</td>\n",
       "    </tr>\n",
       "    <tr>\n",
       "      <th>16</th>\n",
       "      <td>Antineoplastic - Menin Inhibitors</td>\n",
       "      <td>1</td>\n",
       "      <td>1</td>\n",
       "      <td>2</td>\n",
       "    </tr>\n",
       "    <tr>\n",
       "      <th>17</th>\n",
       "      <td>Antineoplastic - Hedgehog Pathway Inhibitors</td>\n",
       "      <td>10</td>\n",
       "      <td>1</td>\n",
       "      <td>2</td>\n",
       "    </tr>\n",
       "    <tr>\n",
       "      <th>18</th>\n",
       "      <td>Antineoplastic - Gene Therapy Agents</td>\n",
       "      <td>31</td>\n",
       "      <td>2</td>\n",
       "      <td>1</td>\n",
       "    </tr>\n",
       "    <tr>\n",
       "      <th>19</th>\n",
       "      <td>Antineoplastic - Cellular Immunotherapy</td>\n",
       "      <td>1</td>\n",
       "      <td>1</td>\n",
       "      <td>1</td>\n",
       "    </tr>\n",
       "  </tbody>\n",
       "</table>\n",
       "</div>"
      ],
      "text/plain": [
       "                                          gpi_4_class  hospital_id_unique  \\\n",
       "0                    Antineoplastic Enzyme Inhibitors                 410   \n",
       "1                         Antineoplastic - Antibodies                 462   \n",
       "2        Antineoplastic - Hormonal and Related Agents                 540   \n",
       "3                          Antineoplastic Antibiotics                 428   \n",
       "4                               Antineoplastics Misc.                 382   \n",
       "5                           Multiple Sclerosis Agents                 388   \n",
       "6            Antineoplastic - Angiogenesis Inhibitors                 368   \n",
       "7                    Antineoplastic - EGFR Inhibitors                 318   \n",
       "8                         Antineoplastic Combinations                 315   \n",
       "9                   Antineoplastic - Anti-HER2 Agents                 310   \n",
       "10                   Antineoplastic - XPO1 Inhibitors                  10   \n",
       "11  Antineoplastic or Premalignant Lesion Agents -...                  31   \n",
       "12                             Antineoplastic Enzymes                  96   \n",
       "13                  Antineoplastic - Immunomodulators                  28   \n",
       "14                  Antineoplastic - BCL-2 Inhibitors                  27   \n",
       "15            Antineoplastic - PDGFR-alpha Inhibitors                  10   \n",
       "16                  Antineoplastic - Menin Inhibitors                   1   \n",
       "17       Antineoplastic - Hedgehog Pathway Inhibitors                  10   \n",
       "18               Antineoplastic - Gene Therapy Agents                  31   \n",
       "19            Antineoplastic - Cellular Immunotherapy                   1   \n",
       "\n",
       "    drug_type_of_measurement_unique  product_unique  \n",
       "0                                 5             177  \n",
       "1                                 5              70  \n",
       "2                                 5              50  \n",
       "3                                 6              37  \n",
       "4                                 6              26  \n",
       "5                                 6              24  \n",
       "6                                 4              19  \n",
       "7                                 4              16  \n",
       "8                                 4              13  \n",
       "9                                 4               7  \n",
       "10                                1               7  \n",
       "11                                4               5  \n",
       "12                                4               4  \n",
       "13                                3               4  \n",
       "14                                2               4  \n",
       "15                                1               3  \n",
       "16                                1               2  \n",
       "17                                1               2  \n",
       "18                                2               1  \n",
       "19                                1               1  "
      ]
     },
     "execution_count": 12,
     "metadata": {},
     "output_type": "execute_result"
    }
   ],
   "source": [
    "importlib.reload(analysis)\n",
    "# determine how many unique drugs\n",
    "\n",
    "(\n",
    "# load base data\n",
    "load_base_data()\n",
    "# group by gpi_4_class and count unique products, hospital_ids, and drug_type_of_measure\n",
    ".group_by(c.gpi_4_class)\n",
    ".agg(\n",
    "    # take columns that match product, hospital_id, or drug_type_of_measure and count unique values\n",
    "    cs.matches('(?i)product|hospital_id|drug_type_of_measure').n_unique().name.suffix('_unique')\n",
    ")\n",
    ".collect(engine='streaming')\n",
    ".sort('product_unique', descending=True)\n",
    ".to_pandas()\n",
    ")"
   ]
  },
  {
   "cell_type": "markdown",
   "id": "a17a9387",
   "metadata": {},
   "source": [
    "### Summary Statistics for average unique prices over products"
   ]
  },
  {
   "cell_type": "code",
   "execution_count": 22,
   "id": "33821cd3",
   "metadata": {},
   "outputs": [
    {
     "data": {
      "application/vnd.microsoft.datawrangler.viewer.v0+json": {
       "columns": [
        {
         "name": "index",
         "rawType": "int64",
         "type": "integer"
        },
        {
         "name": "column",
         "rawType": "object",
         "type": "string"
        },
        {
         "name": "column_0",
         "rawType": "float64",
         "type": "float"
        }
       ],
       "ref": "44684994-26bf-4a87-b754-a04684e6f0a6",
       "rows": [
        [
         "0",
         "standard_charge_gross_unique_count_min",
         "1.0"
        ],
        [
         "1",
         "standard_charge_discounted_cash_unique_count_min",
         "1.0"
        ],
        [
         "2",
         "standard_charge_negotiated_dollar_unique_count_min",
         "1.0"
        ],
        [
         "3",
         "standard_charge_gross_unique_count_max",
         "684.0"
        ],
        [
         "4",
         "standard_charge_discounted_cash_unique_count_max",
         "753.0"
        ],
        [
         "5",
         "standard_charge_negotiated_dollar_unique_count_max",
         "7492.0"
        ],
        [
         "6",
         "standard_charge_gross_unique_count_avg",
         "37.82"
        ],
        [
         "7",
         "standard_charge_discounted_cash_unique_count_avg",
         "44.44"
        ],
        [
         "8",
         "standard_charge_negotiated_dollar_unique_count_avg",
         "534.65"
        ]
       ],
       "shape": {
        "columns": 2,
        "rows": 9
       }
      },
      "text/html": [
       "<div>\n",
       "<style scoped>\n",
       "    .dataframe tbody tr th:only-of-type {\n",
       "        vertical-align: middle;\n",
       "    }\n",
       "\n",
       "    .dataframe tbody tr th {\n",
       "        vertical-align: top;\n",
       "    }\n",
       "\n",
       "    .dataframe thead th {\n",
       "        text-align: right;\n",
       "    }\n",
       "</style>\n",
       "<table border=\"1\" class=\"dataframe\">\n",
       "  <thead>\n",
       "    <tr style=\"text-align: right;\">\n",
       "      <th></th>\n",
       "      <th>column</th>\n",
       "      <th>column_0</th>\n",
       "    </tr>\n",
       "  </thead>\n",
       "  <tbody>\n",
       "    <tr>\n",
       "      <th>0</th>\n",
       "      <td>standard_charge_gross_unique_count_min</td>\n",
       "      <td>1.00</td>\n",
       "    </tr>\n",
       "    <tr>\n",
       "      <th>1</th>\n",
       "      <td>standard_charge_discounted_cash_unique_count_min</td>\n",
       "      <td>1.00</td>\n",
       "    </tr>\n",
       "    <tr>\n",
       "      <th>2</th>\n",
       "      <td>standard_charge_negotiated_dollar_unique_count...</td>\n",
       "      <td>1.00</td>\n",
       "    </tr>\n",
       "    <tr>\n",
       "      <th>3</th>\n",
       "      <td>standard_charge_gross_unique_count_max</td>\n",
       "      <td>684.00</td>\n",
       "    </tr>\n",
       "    <tr>\n",
       "      <th>4</th>\n",
       "      <td>standard_charge_discounted_cash_unique_count_max</td>\n",
       "      <td>753.00</td>\n",
       "    </tr>\n",
       "    <tr>\n",
       "      <th>5</th>\n",
       "      <td>standard_charge_negotiated_dollar_unique_count...</td>\n",
       "      <td>7492.00</td>\n",
       "    </tr>\n",
       "    <tr>\n",
       "      <th>6</th>\n",
       "      <td>standard_charge_gross_unique_count_avg</td>\n",
       "      <td>37.82</td>\n",
       "    </tr>\n",
       "    <tr>\n",
       "      <th>7</th>\n",
       "      <td>standard_charge_discounted_cash_unique_count_avg</td>\n",
       "      <td>44.44</td>\n",
       "    </tr>\n",
       "    <tr>\n",
       "      <th>8</th>\n",
       "      <td>standard_charge_negotiated_dollar_unique_count...</td>\n",
       "      <td>534.65</td>\n",
       "    </tr>\n",
       "  </tbody>\n",
       "</table>\n",
       "</div>"
      ],
      "text/plain": [
       "                                              column  column_0\n",
       "0             standard_charge_gross_unique_count_min      1.00\n",
       "1   standard_charge_discounted_cash_unique_count_min      1.00\n",
       "2  standard_charge_negotiated_dollar_unique_count...      1.00\n",
       "3             standard_charge_gross_unique_count_max    684.00\n",
       "4   standard_charge_discounted_cash_unique_count_max    753.00\n",
       "5  standard_charge_negotiated_dollar_unique_count...   7492.00\n",
       "6             standard_charge_gross_unique_count_avg     37.82\n",
       "7   standard_charge_discounted_cash_unique_count_avg     44.44\n",
       "8  standard_charge_negotiated_dollar_unique_count...    534.65"
      ]
     },
     "execution_count": 22,
     "metadata": {},
     "output_type": "execute_result"
    }
   ],
   "source": [
    "(\n",
    "# load base data\n",
    "load_base_data()\n",
    "# group by product\n",
    ".group_by(c.product)\n",
    "# calculate unique price count for gross, cash, and negotiated prices\n",
    ".agg(\n",
    "    cs.matches('^standard.*gross|cash|negotiated_dollar').n_unique().name.suffix('_unique_count'),\n",
    ")\n",
    "# get the min, max, and mean over the product groupings\n",
    ".select(\n",
    "    cs.numeric().min().round(2).name.suffix('_min'),\n",
    "    cs.numeric().max().round(2).name.suffix('_max'),\n",
    "    cs.numeric().mean().round(2).name.suffix('_avg'),\n",
    ")\n",
    ".select(~cs.matches('(?i)calculated'))\n",
    ".collect(engine=\"streaming\")\n",
    ".transpose(include_header=True)\n",
    ".to_pandas()\n",
    ")"
   ]
  },
  {
   "cell_type": "markdown",
   "id": "3477d83d",
   "metadata": {},
   "source": [
    "### The problem with price\n",
    "- no standard price at the units or drug type level\n",
    "- non-standardize unit or type of pricing for the same product increase complexity and confusion"
   ]
  },
  {
   "cell_type": "code",
   "execution_count": 15,
   "id": "40b46976",
   "metadata": {},
   "outputs": [
    {
     "data": {
      "application/vnd.microsoft.datawrangler.viewer.v0+json": {
       "columns": [
        {
         "name": "index",
         "rawType": "int64",
         "type": "integer"
        },
        {
         "name": "column",
         "rawType": "object",
         "type": "string"
        },
        {
         "name": "column_0",
         "rawType": "float64",
         "type": "float"
        }
       ],
       "ref": "210b989b-00b6-4d34-90ba-a559cdcdb6d4",
       "rows": [
        [
         "0",
         "num_products",
         "472.0"
        ],
        [
         "1",
         "avg_drug_unit_of_measurement_unique",
         "3.4"
        ],
        [
         "2",
         "avg_drug_type_of_measurement_unique",
         "2.4"
        ],
        [
         "3",
         "min_drug_unit_of_measurement_unique",
         "1.0"
        ],
        [
         "4",
         "min_drug_type_of_measurement_unique",
         "1.0"
        ],
        [
         "5",
         "max_drug_unit_of_measurement_unique",
         "23.0"
        ],
        [
         "6",
         "max_drug_type_of_measurement_unique",
         "5.0"
        ]
       ],
       "shape": {
        "columns": 2,
        "rows": 7
       }
      },
      "text/html": [
       "<div>\n",
       "<style scoped>\n",
       "    .dataframe tbody tr th:only-of-type {\n",
       "        vertical-align: middle;\n",
       "    }\n",
       "\n",
       "    .dataframe tbody tr th {\n",
       "        vertical-align: top;\n",
       "    }\n",
       "\n",
       "    .dataframe thead th {\n",
       "        text-align: right;\n",
       "    }\n",
       "</style>\n",
       "<table border=\"1\" class=\"dataframe\">\n",
       "  <thead>\n",
       "    <tr style=\"text-align: right;\">\n",
       "      <th></th>\n",
       "      <th>column</th>\n",
       "      <th>column_0</th>\n",
       "    </tr>\n",
       "  </thead>\n",
       "  <tbody>\n",
       "    <tr>\n",
       "      <th>0</th>\n",
       "      <td>num_products</td>\n",
       "      <td>472.0</td>\n",
       "    </tr>\n",
       "    <tr>\n",
       "      <th>1</th>\n",
       "      <td>avg_drug_unit_of_measurement_unique</td>\n",
       "      <td>3.4</td>\n",
       "    </tr>\n",
       "    <tr>\n",
       "      <th>2</th>\n",
       "      <td>avg_drug_type_of_measurement_unique</td>\n",
       "      <td>2.4</td>\n",
       "    </tr>\n",
       "    <tr>\n",
       "      <th>3</th>\n",
       "      <td>min_drug_unit_of_measurement_unique</td>\n",
       "      <td>1.0</td>\n",
       "    </tr>\n",
       "    <tr>\n",
       "      <th>4</th>\n",
       "      <td>min_drug_type_of_measurement_unique</td>\n",
       "      <td>1.0</td>\n",
       "    </tr>\n",
       "    <tr>\n",
       "      <th>5</th>\n",
       "      <td>max_drug_unit_of_measurement_unique</td>\n",
       "      <td>23.0</td>\n",
       "    </tr>\n",
       "    <tr>\n",
       "      <th>6</th>\n",
       "      <td>max_drug_type_of_measurement_unique</td>\n",
       "      <td>5.0</td>\n",
       "    </tr>\n",
       "  </tbody>\n",
       "</table>\n",
       "</div>"
      ],
      "text/plain": [
       "                                column  column_0\n",
       "0                         num_products     472.0\n",
       "1  avg_drug_unit_of_measurement_unique       3.4\n",
       "2  avg_drug_type_of_measurement_unique       2.4\n",
       "3  min_drug_unit_of_measurement_unique       1.0\n",
       "4  min_drug_type_of_measurement_unique       1.0\n",
       "5  max_drug_unit_of_measurement_unique      23.0\n",
       "6  max_drug_type_of_measurement_unique       5.0"
      ]
     },
     "execution_count": 15,
     "metadata": {},
     "output_type": "execute_result"
    }
   ],
   "source": [
    "importlib.reload(analysis)\n",
    "\n",
    "# determine the unique products in the data set and summarize statistics on price descriptions\n",
    "\n",
    "(\n",
    "load_base_data()\n",
    ".group_by(c.product)\n",
    ".agg(\n",
    "    cs.matches('(?i)of_measure').n_unique().name.suffix('_unique')\n",
    ")\n",
    ".select(\n",
    "    c.product.n_unique().alias('num_products'),\n",
    "    cs.matches('(?i)of_measure').mean().round(1).name.prefix('avg_'),\n",
    "    cs.matches('(?i)of_measure').min().round(1).name.prefix('min_'),\n",
    "    cs.matches('(?i)of_measure').max().round(1).name.prefix('max_')\n",
    ")\n",
    ".collect(engine=\"streaming\")\n",
    ".transpose(include_header=True)\n",
    ".to_pandas()\n",
    ")"
   ]
  },
  {
   "cell_type": "markdown",
   "id": "d50393aa",
   "metadata": {},
   "source": [
    "### We attempted to quantify the magnitude of price variability\n",
    "1. determine the min, max, mean, and standard deviation for each product without normalization of data for\n",
    "    - gross price\n",
    "    - cash discount price\n",
    "    - negoticated price\n",
    "2. aggregate the results to determine the average min, max, mean, and standard deviation across all products"
   ]
  },
  {
   "cell_type": "code",
   "execution_count": 20,
   "id": "013df047",
   "metadata": {},
   "outputs": [
    {
     "data": {
      "application/vnd.microsoft.datawrangler.viewer.v0+json": {
       "columns": [
        {
         "name": "index",
         "rawType": "int64",
         "type": "integer"
        },
        {
         "name": "column",
         "rawType": "object",
         "type": "string"
        },
        {
         "name": "column_0",
         "rawType": "float64",
         "type": "float"
        }
       ],
       "ref": "9d79afe9-fb31-4079-9ee4-177b88ab13ab",
       "rows": [
        [
         "0",
         "standard_charge_gross_min",
         "4688.45"
        ],
        [
         "1",
         "standard_charge_discounted_cash_min",
         "2897.16"
        ],
        [
         "2",
         "standard_charge_negotiated_dollar_min",
         "1590.96"
        ],
        [
         "3",
         "standard_charge_gross_mean",
         "12431.08"
        ],
        [
         "4",
         "standard_charge_discounted_cash_mean",
         "62794.33"
        ],
        [
         "5",
         "standard_charge_negotiated_dollar_mean",
         "13877.38"
        ],
        [
         "6",
         "standard_charge_gross_max",
         "39571.89"
        ],
        [
         "7",
         "standard_charge_discounted_cash_max",
         "25667304.34"
        ],
        [
         "8",
         "standard_charge_negotiated_dollar_max",
         "42588624.09"
        ],
        [
         "9",
         "standard_charge_gross_std",
         "6623.55"
        ],
        [
         "10",
         "standard_charge_discounted_cash_std",
         "1156865.36"
        ],
        [
         "11",
         "standard_charge_negotiated_dollar_std",
         "536782.66"
        ]
       ],
       "shape": {
        "columns": 2,
        "rows": 12
       }
      },
      "text/html": [
       "<div>\n",
       "<style scoped>\n",
       "    .dataframe tbody tr th:only-of-type {\n",
       "        vertical-align: middle;\n",
       "    }\n",
       "\n",
       "    .dataframe tbody tr th {\n",
       "        vertical-align: top;\n",
       "    }\n",
       "\n",
       "    .dataframe thead th {\n",
       "        text-align: right;\n",
       "    }\n",
       "</style>\n",
       "<table border=\"1\" class=\"dataframe\">\n",
       "  <thead>\n",
       "    <tr style=\"text-align: right;\">\n",
       "      <th></th>\n",
       "      <th>column</th>\n",
       "      <th>column_0</th>\n",
       "    </tr>\n",
       "  </thead>\n",
       "  <tbody>\n",
       "    <tr>\n",
       "      <th>0</th>\n",
       "      <td>standard_charge_gross_min</td>\n",
       "      <td>4688.45</td>\n",
       "    </tr>\n",
       "    <tr>\n",
       "      <th>1</th>\n",
       "      <td>standard_charge_discounted_cash_min</td>\n",
       "      <td>2897.16</td>\n",
       "    </tr>\n",
       "    <tr>\n",
       "      <th>2</th>\n",
       "      <td>standard_charge_negotiated_dollar_min</td>\n",
       "      <td>1590.96</td>\n",
       "    </tr>\n",
       "    <tr>\n",
       "      <th>3</th>\n",
       "      <td>standard_charge_gross_mean</td>\n",
       "      <td>12431.08</td>\n",
       "    </tr>\n",
       "    <tr>\n",
       "      <th>4</th>\n",
       "      <td>standard_charge_discounted_cash_mean</td>\n",
       "      <td>62794.33</td>\n",
       "    </tr>\n",
       "    <tr>\n",
       "      <th>5</th>\n",
       "      <td>standard_charge_negotiated_dollar_mean</td>\n",
       "      <td>13877.38</td>\n",
       "    </tr>\n",
       "    <tr>\n",
       "      <th>6</th>\n",
       "      <td>standard_charge_gross_max</td>\n",
       "      <td>39571.89</td>\n",
       "    </tr>\n",
       "    <tr>\n",
       "      <th>7</th>\n",
       "      <td>standard_charge_discounted_cash_max</td>\n",
       "      <td>25667304.34</td>\n",
       "    </tr>\n",
       "    <tr>\n",
       "      <th>8</th>\n",
       "      <td>standard_charge_negotiated_dollar_max</td>\n",
       "      <td>42588624.09</td>\n",
       "    </tr>\n",
       "    <tr>\n",
       "      <th>9</th>\n",
       "      <td>standard_charge_gross_std</td>\n",
       "      <td>6623.55</td>\n",
       "    </tr>\n",
       "    <tr>\n",
       "      <th>10</th>\n",
       "      <td>standard_charge_discounted_cash_std</td>\n",
       "      <td>1156865.36</td>\n",
       "    </tr>\n",
       "    <tr>\n",
       "      <th>11</th>\n",
       "      <td>standard_charge_negotiated_dollar_std</td>\n",
       "      <td>536782.66</td>\n",
       "    </tr>\n",
       "  </tbody>\n",
       "</table>\n",
       "</div>"
      ],
      "text/plain": [
       "                                    column     column_0\n",
       "0                standard_charge_gross_min      4688.45\n",
       "1      standard_charge_discounted_cash_min      2897.16\n",
       "2    standard_charge_negotiated_dollar_min      1590.96\n",
       "3               standard_charge_gross_mean     12431.08\n",
       "4     standard_charge_discounted_cash_mean     62794.33\n",
       "5   standard_charge_negotiated_dollar_mean     13877.38\n",
       "6                standard_charge_gross_max     39571.89\n",
       "7      standard_charge_discounted_cash_max  25667304.34\n",
       "8    standard_charge_negotiated_dollar_max  42588624.09\n",
       "9                standard_charge_gross_std      6623.55\n",
       "10     standard_charge_discounted_cash_std   1156865.36\n",
       "11   standard_charge_negotiated_dollar_std    536782.66"
      ]
     },
     "execution_count": 20,
     "metadata": {},
     "output_type": "execute_result"
    }
   ],
   "source": [
    "def product_stats(col_regex: str) -> list[pl.Expr]:\n",
    "    \"\"\"\n",
    "    helper function to summarize statistics for products based on a column regex.\n",
    "    \"\"\"\n",
    "    return [\n",
    "    cs.matches(f'(?i){col_regex}').min().name.suffix('_min'),\n",
    "    cs.matches(f'(?i){col_regex}').mean().round(1).name.suffix('_mean'),\n",
    "    cs.matches(f'(?i){col_regex}').max().name.suffix('_max'),\n",
    "    cs.matches(f'(?i){col_regex}').std().round(1).name.suffix('_std')\n",
    "    ]\n",
    "\n",
    "(\n",
    "load_base_data()\n",
    ".group_by(c.product)\n",
    ".agg(\n",
    "    # regular expression to match columns related to gross, cash, or negotiated prices\n",
    "    *product_stats('^standard.*gross|cash|negotiated_dollar'),\n",
    ")\n",
    ".select(\n",
    "    # take all numeric columns and calculate the mean across all products\n",
    "    cs.numeric().mean().round(2),\n",
    ")\n",
    "# remove unnecessary columns\n",
    ".select(~cs.matches('(?i)calculated'))\n",
    ".collect(engine=\"streaming\")\n",
    ".transpose(include_header=True)\n",
    ".to_pandas()\n",
    "\n",
    ")"
   ]
  },
  {
   "cell_type": "code",
   "execution_count": null,
   "id": "ad8a55ef",
   "metadata": {},
   "outputs": [],
   "source": []
  }
 ],
 "metadata": {
  "kernelspec": {
   "display_name": "PRA_REPORT",
   "language": "python",
   "name": "python3"
  },
  "language_info": {
   "codemirror_mode": {
    "name": "ipython",
    "version": 3
   },
   "file_extension": ".py",
   "mimetype": "text/x-python",
   "name": "python",
   "nbconvert_exporter": "python",
   "pygments_lexer": "ipython3",
   "version": "3.13.5"
  }
 },
 "nbformat": 4,
 "nbformat_minor": 5
}
